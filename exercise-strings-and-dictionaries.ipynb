{
 "cells": [
  {
   "cell_type": "markdown",
   "id": "d95a0792",
   "metadata": {
    "papermill": {
     "duration": 0.004824,
     "end_time": "2023-05-16T07:27:06.252570",
     "exception": false,
     "start_time": "2023-05-16T07:27:06.247746",
     "status": "completed"
    },
    "tags": []
   },
   "source": [
    "**This notebook is an exercise in the [Python](https://www.kaggle.com/learn/python) course.  You can reference the tutorial at [this link](https://www.kaggle.com/colinmorris/strings-and-dictionaries).**\n",
    "\n",
    "---\n"
   ]
  },
  {
   "cell_type": "markdown",
   "id": "ac8942a9",
   "metadata": {
    "papermill": {
     "duration": 0.003958,
     "end_time": "2023-05-16T07:27:06.260920",
     "exception": false,
     "start_time": "2023-05-16T07:27:06.256962",
     "status": "completed"
    },
    "tags": []
   },
   "source": [
    "You are almost done with the course. Nice job!\n",
    "\n",
    "We have a couple more interesting problems for you before you go. \n",
    "\n",
    "As always, run the setup code below before working on the questions."
   ]
  },
  {
   "cell_type": "code",
   "execution_count": 1,
   "id": "031483bf",
   "metadata": {
    "execution": {
     "iopub.execute_input": "2023-05-16T07:27:06.271220Z",
     "iopub.status.busy": "2023-05-16T07:27:06.270854Z",
     "iopub.status.idle": "2023-05-16T07:27:06.336781Z",
     "shell.execute_reply": "2023-05-16T07:27:06.335259Z"
    },
    "papermill": {
     "duration": 0.074296,
     "end_time": "2023-05-16T07:27:06.339460",
     "exception": false,
     "start_time": "2023-05-16T07:27:06.265164",
     "status": "completed"
    },
    "tags": []
   },
   "outputs": [
    {
     "name": "stdout",
     "output_type": "stream",
     "text": [
      "Setup complete.\n"
     ]
    }
   ],
   "source": [
    "from learntools.core import binder; binder.bind(globals())\n",
    "from learntools.python.ex6 import *\n",
    "print('Setup complete.')"
   ]
  },
  {
   "cell_type": "markdown",
   "id": "efe76407",
   "metadata": {
    "papermill": {
     "duration": 0.004553,
     "end_time": "2023-05-16T07:27:06.349708",
     "exception": false,
     "start_time": "2023-05-16T07:27:06.345155",
     "status": "completed"
    },
    "tags": []
   },
   "source": [
    "Let's start with a string lightning round to warm up. What are the lengths of the strings below?\n",
    "\n",
    "For each of the five strings below, predict what `len()` would return when passed that string. Use the variable `length` to record your answer, then run the cell to check whether you were right.  \n",
    "\n",
    "# 0a."
   ]
  },
  {
   "cell_type": "code",
   "execution_count": 2,
   "id": "f6f986d1",
   "metadata": {
    "execution": {
     "iopub.execute_input": "2023-05-16T07:27:06.362328Z",
     "iopub.status.busy": "2023-05-16T07:27:06.362002Z",
     "iopub.status.idle": "2023-05-16T07:27:06.371242Z",
     "shell.execute_reply": "2023-05-16T07:27:06.369797Z"
    },
    "papermill": {
     "duration": 0.017966,
     "end_time": "2023-05-16T07:27:06.373272",
     "exception": false,
     "start_time": "2023-05-16T07:27:06.355306",
     "status": "completed"
    },
    "tags": []
   },
   "outputs": [
    {
     "data": {
      "application/javascript": [
       "parent.postMessage({\"jupyterEvent\": \"custom.exercise_interaction\", \"data\": {\"outcomeType\": 1, \"valueTowardsCompletion\": 0.3333333333333333, \"interactionType\": 1, \"questionType\": 1, \"questionId\": \"0.1_ZA\", \"learnToolsVersion\": \"0.3.4\", \"failureMessage\": \"\", \"exceptionClass\": \"\", \"trace\": \"\"}}, \"*\")"
      ],
      "text/plain": [
       "<IPython.core.display.Javascript object>"
      ]
     },
     "metadata": {},
     "output_type": "display_data"
    },
    {
     "data": {
      "text/markdown": [
       "<span style=\"color:#33cc33\">Correct:</span> \n",
       "\n",
       "The empty string has length zero. Note that the empty string is also the only string that Python considers as False when converting to boolean."
      ],
      "text/plain": [
       "Correct: \n",
       "\n",
       "The empty string has length zero. Note that the empty string is also the only string that Python considers as False when converting to boolean."
      ]
     },
     "metadata": {},
     "output_type": "display_data"
    }
   ],
   "source": [
    "a = \"\"\n",
    "length = len(a)\n",
    "q0.a.check()"
   ]
  },
  {
   "cell_type": "markdown",
   "id": "ac96edd4",
   "metadata": {
    "papermill": {
     "duration": 0.004997,
     "end_time": "2023-05-16T07:27:06.383646",
     "exception": false,
     "start_time": "2023-05-16T07:27:06.378649",
     "status": "completed"
    },
    "tags": []
   },
   "source": [
    "# 0b."
   ]
  },
  {
   "cell_type": "code",
   "execution_count": 3,
   "id": "11eade04",
   "metadata": {
    "execution": {
     "iopub.execute_input": "2023-05-16T07:27:06.396858Z",
     "iopub.status.busy": "2023-05-16T07:27:06.396177Z",
     "iopub.status.idle": "2023-05-16T07:27:06.403572Z",
     "shell.execute_reply": "2023-05-16T07:27:06.402816Z"
    },
    "papermill": {
     "duration": 0.016005,
     "end_time": "2023-05-16T07:27:06.405247",
     "exception": false,
     "start_time": "2023-05-16T07:27:06.389242",
     "status": "completed"
    },
    "tags": []
   },
   "outputs": [
    {
     "data": {
      "application/javascript": [
       "parent.postMessage({\"jupyterEvent\": \"custom.exercise_interaction\", \"data\": {\"outcomeType\": 1, \"valueTowardsCompletion\": 0.3333333333333333, \"interactionType\": 1, \"questionType\": 1, \"questionId\": \"0.2_ZB\", \"learnToolsVersion\": \"0.3.4\", \"failureMessage\": \"\", \"exceptionClass\": \"\", \"trace\": \"\"}}, \"*\")"
      ],
      "text/plain": [
       "<IPython.core.display.Javascript object>"
      ]
     },
     "metadata": {},
     "output_type": "display_data"
    },
    {
     "data": {
      "text/markdown": [
       "<span style=\"color:#33cc33\">Correct:</span> \n",
       "\n",
       "Keep in mind Python includes spaces (and punctuation) when counting string length."
      ],
      "text/plain": [
       "Correct: \n",
       "\n",
       "Keep in mind Python includes spaces (and punctuation) when counting string length."
      ]
     },
     "metadata": {},
     "output_type": "display_data"
    }
   ],
   "source": [
    "b = \"it's ok\"\n",
    "length = len(b)\n",
    "q0.b.check()"
   ]
  },
  {
   "cell_type": "markdown",
   "id": "cc18d322",
   "metadata": {
    "papermill": {
     "duration": 0.0046,
     "end_time": "2023-05-16T07:27:06.414897",
     "exception": false,
     "start_time": "2023-05-16T07:27:06.410297",
     "status": "completed"
    },
    "tags": []
   },
   "source": [
    "# 0c."
   ]
  },
  {
   "cell_type": "code",
   "execution_count": 4,
   "id": "3f0f4beb",
   "metadata": {
    "execution": {
     "iopub.execute_input": "2023-05-16T07:27:06.426750Z",
     "iopub.status.busy": "2023-05-16T07:27:06.426061Z",
     "iopub.status.idle": "2023-05-16T07:27:06.434864Z",
     "shell.execute_reply": "2023-05-16T07:27:06.433483Z"
    },
    "papermill": {
     "duration": 0.018438,
     "end_time": "2023-05-16T07:27:06.438084",
     "exception": false,
     "start_time": "2023-05-16T07:27:06.419646",
     "status": "completed"
    },
    "tags": []
   },
   "outputs": [
    {
     "data": {
      "application/javascript": [
       "parent.postMessage({\"jupyterEvent\": \"custom.exercise_interaction\", \"data\": {\"outcomeType\": 1, \"valueTowardsCompletion\": 0.3333333333333333, \"interactionType\": 1, \"questionType\": 1, \"questionId\": \"0.3_ZC\", \"learnToolsVersion\": \"0.3.4\", \"failureMessage\": \"\", \"exceptionClass\": \"\", \"trace\": \"\"}}, \"*\")"
      ],
      "text/plain": [
       "<IPython.core.display.Javascript object>"
      ]
     },
     "metadata": {},
     "output_type": "display_data"
    },
    {
     "data": {
      "text/markdown": [
       "<span style=\"color:#33cc33\">Correct:</span> \n",
       "\n",
       "Even though we use different syntax to create it, the string `c` is identical to `b`. In particular, note that the backslash is not part of the string, so it doesn't contribute to its length."
      ],
      "text/plain": [
       "Correct: \n",
       "\n",
       "Even though we use different syntax to create it, the string `c` is identical to `b`. In particular, note that the backslash is not part of the string, so it doesn't contribute to its length."
      ]
     },
     "metadata": {},
     "output_type": "display_data"
    }
   ],
   "source": [
    "c = 'it\\'s ok'\n",
    "length = len(c)\n",
    "q0.c.check()"
   ]
  },
  {
   "cell_type": "markdown",
   "id": "148abe30",
   "metadata": {
    "papermill": {
     "duration": 0.007212,
     "end_time": "2023-05-16T07:27:06.451972",
     "exception": false,
     "start_time": "2023-05-16T07:27:06.444760",
     "status": "completed"
    },
    "tags": []
   },
   "source": [
    "# 0d."
   ]
  },
  {
   "cell_type": "code",
   "execution_count": 5,
   "id": "357c311f",
   "metadata": {
    "execution": {
     "iopub.execute_input": "2023-05-16T07:27:06.465260Z",
     "iopub.status.busy": "2023-05-16T07:27:06.464919Z",
     "iopub.status.idle": "2023-05-16T07:27:06.473444Z",
     "shell.execute_reply": "2023-05-16T07:27:06.471764Z"
    },
    "papermill": {
     "duration": 0.017589,
     "end_time": "2023-05-16T07:27:06.475572",
     "exception": false,
     "start_time": "2023-05-16T07:27:06.457983",
     "status": "completed"
    },
    "tags": []
   },
   "outputs": [
    {
     "data": {
      "application/javascript": [
       "parent.postMessage({\"jupyterEvent\": \"custom.exercise_interaction\", \"data\": {\"outcomeType\": 1, \"valueTowardsCompletion\": 0.3333333333333333, \"interactionType\": 1, \"questionType\": 1, \"questionId\": \"0.4_ZD\", \"learnToolsVersion\": \"0.3.4\", \"failureMessage\": \"\", \"exceptionClass\": \"\", \"trace\": \"\"}}, \"*\")"
      ],
      "text/plain": [
       "<IPython.core.display.Javascript object>"
      ]
     },
     "metadata": {},
     "output_type": "display_data"
    },
    {
     "data": {
      "text/markdown": [
       "<span style=\"color:#33cc33\">Correct:</span> \n",
       "\n",
       "The fact that this string was created using triple-quote syntax doesn't make any difference in terms of its content or length. This string is exactly the same as `'hey'`."
      ],
      "text/plain": [
       "Correct: \n",
       "\n",
       "The fact that this string was created using triple-quote syntax doesn't make any difference in terms of its content or length. This string is exactly the same as `'hey'`."
      ]
     },
     "metadata": {},
     "output_type": "display_data"
    }
   ],
   "source": [
    "d = \"\"\"hey\"\"\"\n",
    "length = len(d)\n",
    "q0.d.check()"
   ]
  },
  {
   "cell_type": "markdown",
   "id": "95de1604",
   "metadata": {
    "papermill": {
     "duration": 0.005155,
     "end_time": "2023-05-16T07:27:06.486472",
     "exception": false,
     "start_time": "2023-05-16T07:27:06.481317",
     "status": "completed"
    },
    "tags": []
   },
   "source": [
    "# 0e."
   ]
  },
  {
   "cell_type": "code",
   "execution_count": 6,
   "id": "9656abd4",
   "metadata": {
    "execution": {
     "iopub.execute_input": "2023-05-16T07:27:06.498692Z",
     "iopub.status.busy": "2023-05-16T07:27:06.498072Z",
     "iopub.status.idle": "2023-05-16T07:27:06.505183Z",
     "shell.execute_reply": "2023-05-16T07:27:06.504118Z"
    },
    "papermill": {
     "duration": 0.015891,
     "end_time": "2023-05-16T07:27:06.507474",
     "exception": false,
     "start_time": "2023-05-16T07:27:06.491583",
     "status": "completed"
    },
    "tags": []
   },
   "outputs": [
    {
     "data": {
      "application/javascript": [
       "parent.postMessage({\"jupyterEvent\": \"custom.exercise_interaction\", \"data\": {\"outcomeType\": 1, \"valueTowardsCompletion\": 0.3333333333333333, \"interactionType\": 1, \"questionType\": 1, \"questionId\": \"0.5_ZE\", \"learnToolsVersion\": \"0.3.4\", \"failureMessage\": \"\", \"exceptionClass\": \"\", \"trace\": \"\"}}, \"*\")"
      ],
      "text/plain": [
       "<IPython.core.display.Javascript object>"
      ]
     },
     "metadata": {},
     "output_type": "display_data"
    },
    {
     "data": {
      "text/markdown": [
       "<span style=\"color:#33cc33\">Correct:</span> \n",
       "\n",
       "The newline character is just a single character! (Even though we represent it to Python using a combination of two characters.)"
      ],
      "text/plain": [
       "Correct: \n",
       "\n",
       "The newline character is just a single character! (Even though we represent it to Python using a combination of two characters.)"
      ]
     },
     "metadata": {},
     "output_type": "display_data"
    }
   ],
   "source": [
    "e = '\\n'\n",
    "length = len(e)\n",
    "q0.e.check()"
   ]
  },
  {
   "cell_type": "markdown",
   "id": "ca64e9fb",
   "metadata": {
    "papermill": {
     "duration": 0.005609,
     "end_time": "2023-05-16T07:27:06.519314",
     "exception": false,
     "start_time": "2023-05-16T07:27:06.513705",
     "status": "completed"
    },
    "tags": []
   },
   "source": [
    "# 1.\n",
    "\n",
    "There is a saying that \"Data scientists spend 80% of their time cleaning data, and 20% of their time complaining about cleaning data.\" Let's see if you can write a function to help clean US zip code data. Given a string, it should return whether or not that string represents a valid zip code. For our purposes, a valid zip code is any string consisting of exactly 5 digits.\n",
    "\n",
    "HINT: `str` has a method that will be useful here. Use `help(str)` to review a list of string methods."
   ]
  },
  {
   "cell_type": "code",
   "execution_count": 7,
   "id": "47df70b4",
   "metadata": {
    "execution": {
     "iopub.execute_input": "2023-05-16T07:27:06.532514Z",
     "iopub.status.busy": "2023-05-16T07:27:06.531986Z",
     "iopub.status.idle": "2023-05-16T07:27:06.540353Z",
     "shell.execute_reply": "2023-05-16T07:27:06.539103Z"
    },
    "papermill": {
     "duration": 0.017589,
     "end_time": "2023-05-16T07:27:06.542570",
     "exception": false,
     "start_time": "2023-05-16T07:27:06.524981",
     "status": "completed"
    },
    "tags": []
   },
   "outputs": [
    {
     "data": {
      "application/javascript": [
       "parent.postMessage({\"jupyterEvent\": \"custom.exercise_interaction\", \"data\": {\"outcomeType\": 1, \"valueTowardsCompletion\": 0.3333333333333333, \"interactionType\": 1, \"questionType\": 2, \"questionId\": \"1_ZipValidator\", \"learnToolsVersion\": \"0.3.4\", \"failureMessage\": \"\", \"exceptionClass\": \"\", \"trace\": \"\"}}, \"*\")"
      ],
      "text/plain": [
       "<IPython.core.display.Javascript object>"
      ]
     },
     "metadata": {},
     "output_type": "display_data"
    },
    {
     "data": {
      "text/markdown": [
       "<span style=\"color:#33cc33\">Correct</span>"
      ],
      "text/plain": [
       "Correct"
      ]
     },
     "metadata": {},
     "output_type": "display_data"
    }
   ],
   "source": [
    "def is_valid_zip(zip_code):\n",
    "    if len(zip_code) == 5 and zip_code.isdigit():\n",
    "        return True\n",
    "    else:\n",
    "        return False\n",
    "\n",
    "# Check your answer\n",
    "q1.check()"
   ]
  },
  {
   "cell_type": "code",
   "execution_count": 8,
   "id": "245b1646",
   "metadata": {
    "execution": {
     "iopub.execute_input": "2023-05-16T07:27:06.555959Z",
     "iopub.status.busy": "2023-05-16T07:27:06.555636Z",
     "iopub.status.idle": "2023-05-16T07:27:06.559765Z",
     "shell.execute_reply": "2023-05-16T07:27:06.558305Z"
    },
    "papermill": {
     "duration": 0.013264,
     "end_time": "2023-05-16T07:27:06.561922",
     "exception": false,
     "start_time": "2023-05-16T07:27:06.548658",
     "status": "completed"
    },
    "tags": []
   },
   "outputs": [],
   "source": [
    "#q1.hint()\n",
    "#q1.solution()"
   ]
  },
  {
   "cell_type": "markdown",
   "id": "2f797ce8",
   "metadata": {
    "papermill": {
     "duration": 0.005492,
     "end_time": "2023-05-16T07:27:06.573453",
     "exception": false,
     "start_time": "2023-05-16T07:27:06.567961",
     "status": "completed"
    },
    "tags": []
   },
   "source": [
    "# 2.\n",
    "\n",
    "A researcher has gathered thousands of news articles. But she wants to focus her attention on articles including a specific word. Complete the function below to help her filter her list of articles.\n",
    "\n",
    "Your function should meet the following criteria:\n",
    "\n",
    "- Do not include documents where the keyword string shows up only as a part of a larger word. For example, if she were looking for the keyword “closed”, you would not include the string “enclosed.” \n",
    "- She does not want you to distinguish upper case from lower case letters. So the phrase “Closed the case.” would be included when the keyword is “closed”\n",
    "- Do not let periods or commas affect what is matched. “It is closed.” would be included when the keyword is “closed”. But you can assume there are no other types of punctuation."
   ]
  },
  {
   "cell_type": "code",
   "execution_count": 9,
   "id": "82b7b180",
   "metadata": {
    "execution": {
     "iopub.execute_input": "2023-05-16T07:27:06.586608Z",
     "iopub.status.busy": "2023-05-16T07:27:06.586059Z",
     "iopub.status.idle": "2023-05-16T07:27:06.595980Z",
     "shell.execute_reply": "2023-05-16T07:27:06.594800Z"
    },
    "papermill": {
     "duration": 0.019602,
     "end_time": "2023-05-16T07:27:06.598704",
     "exception": false,
     "start_time": "2023-05-16T07:27:06.579102",
     "status": "completed"
    },
    "tags": []
   },
   "outputs": [
    {
     "data": {
      "application/javascript": [
       "parent.postMessage({\"jupyterEvent\": \"custom.exercise_interaction\", \"data\": {\"outcomeType\": 1, \"valueTowardsCompletion\": 0.3333333333333333, \"interactionType\": 1, \"questionType\": 2, \"questionId\": \"2_WordSearch\", \"learnToolsVersion\": \"0.3.4\", \"failureMessage\": \"\", \"exceptionClass\": \"\", \"trace\": \"\"}}, \"*\")"
      ],
      "text/plain": [
       "<IPython.core.display.Javascript object>"
      ]
     },
     "metadata": {},
     "output_type": "display_data"
    },
    {
     "data": {
      "text/markdown": [
       "<span style=\"color:#33cc33\">Correct</span>"
      ],
      "text/plain": [
       "Correct"
      ]
     },
     "metadata": {},
     "output_type": "display_data"
    }
   ],
   "source": [
    "def word_search(doc_list, keyword):\n",
    "    \"\"\"\n",
    "    Takes a list of documents (each document is a string) and a keyword. \n",
    "    Returns a list of the index values into the original list for all documents \n",
    "    containing the keyword.\n",
    "    \"\"\"\n",
    "    keyword = keyword.lower()\n",
    "    matching_indices = []\n",
    "    for i, doc in enumerate(doc_list):\n",
    "        doc = doc.lower()\n",
    "        words = doc.replace('.','').replace(',','').split()\n",
    "        if keyword in words:\n",
    "            matching_indices.append(i)\n",
    "    return matching_indices\n",
    "\n",
    "    \n",
    "\n",
    "\n",
    "# Check your answer\n",
    "q2.check()"
   ]
  },
  {
   "cell_type": "code",
   "execution_count": 10,
   "id": "5467986d",
   "metadata": {
    "execution": {
     "iopub.execute_input": "2023-05-16T07:27:06.612789Z",
     "iopub.status.busy": "2023-05-16T07:27:06.612441Z",
     "iopub.status.idle": "2023-05-16T07:27:06.616417Z",
     "shell.execute_reply": "2023-05-16T07:27:06.615375Z"
    },
    "papermill": {
     "duration": 0.013278,
     "end_time": "2023-05-16T07:27:06.618297",
     "exception": false,
     "start_time": "2023-05-16T07:27:06.605019",
     "status": "completed"
    },
    "tags": []
   },
   "outputs": [],
   "source": [
    "#q2.hint()\n",
    "#q2.solution()"
   ]
  },
  {
   "cell_type": "markdown",
   "id": "24811e78",
   "metadata": {
    "papermill": {
     "duration": 0.005424,
     "end_time": "2023-05-16T07:27:06.630016",
     "exception": false,
     "start_time": "2023-05-16T07:27:06.624592",
     "status": "completed"
    },
    "tags": []
   },
   "source": [
    "# 3.\n",
    "\n",
    "Now the researcher wants to supply multiple keywords to search for. Complete the function below to help her.\n",
    "\n",
    "(You're encouraged to use the `word_search` function you just wrote when implementing this function. Reusing code in this way makes your programs more robust and readable - and it saves typing!)"
   ]
  },
  {
   "cell_type": "code",
   "execution_count": 11,
   "id": "baacca63",
   "metadata": {
    "execution": {
     "iopub.execute_input": "2023-05-16T07:27:06.643251Z",
     "iopub.status.busy": "2023-05-16T07:27:06.642919Z",
     "iopub.status.idle": "2023-05-16T07:27:06.651299Z",
     "shell.execute_reply": "2023-05-16T07:27:06.650381Z"
    },
    "papermill": {
     "duration": 0.017265,
     "end_time": "2023-05-16T07:27:06.652915",
     "exception": false,
     "start_time": "2023-05-16T07:27:06.635650",
     "status": "completed"
    },
    "tags": []
   },
   "outputs": [
    {
     "data": {
      "application/javascript": [
       "parent.postMessage({\"jupyterEvent\": \"custom.exercise_interaction\", \"data\": {\"outcomeType\": 1, \"valueTowardsCompletion\": 0.3333333333333333, \"interactionType\": 1, \"questionType\": 2, \"questionId\": \"3_MultiWordSearch\", \"learnToolsVersion\": \"0.3.4\", \"failureMessage\": \"\", \"exceptionClass\": \"\", \"trace\": \"\"}}, \"*\")"
      ],
      "text/plain": [
       "<IPython.core.display.Javascript object>"
      ]
     },
     "metadata": {},
     "output_type": "display_data"
    },
    {
     "data": {
      "text/markdown": [
       "<span style=\"color:#33cc33\">Correct</span>"
      ],
      "text/plain": [
       "Correct"
      ]
     },
     "metadata": {},
     "output_type": "display_data"
    }
   ],
   "source": [
    "def multi_word_search(doc_list, keywords):\n",
    "    \"\"\"\n",
    "    Takes a list of documents (each document is a string) and a list of keywords.\n",
    "    Returns a dictionary where each key is a keyword, and the value is a list of indices\n",
    "    (from doc_list) of the documents containing that keyword.\n",
    "    \"\"\"\n",
    "\n",
    "    # Initialize an empty dictionary to store the results\n",
    "    results = {}\n",
    "\n",
    "    # Iterate over each keyword in the list\n",
    "    for keyword in keywords:\n",
    "        # Use the word_search function to get the indices of documents containing the keyword\n",
    "        indices = word_search(doc_list, keyword)\n",
    "\n",
    "        # Store the indices in the results dictionary with the keyword as the key\n",
    "        results[keyword] = indices\n",
    "\n",
    "    return results\n",
    "\n",
    "# Check your answer\n",
    "q3.check()"
   ]
  },
  {
   "cell_type": "code",
   "execution_count": 12,
   "id": "e0ee49cc",
   "metadata": {
    "execution": {
     "iopub.execute_input": "2023-05-16T07:27:06.667723Z",
     "iopub.status.busy": "2023-05-16T07:27:06.667395Z",
     "iopub.status.idle": "2023-05-16T07:27:06.672494Z",
     "shell.execute_reply": "2023-05-16T07:27:06.670889Z"
    },
    "papermill": {
     "duration": 0.015102,
     "end_time": "2023-05-16T07:27:06.674914",
     "exception": false,
     "start_time": "2023-05-16T07:27:06.659812",
     "status": "completed"
    },
    "tags": []
   },
   "outputs": [],
   "source": [
    "#q3.solution()"
   ]
  },
  {
   "cell_type": "markdown",
   "id": "620a4735",
   "metadata": {
    "papermill": {
     "duration": 0.005985,
     "end_time": "2023-05-16T07:27:06.687629",
     "exception": false,
     "start_time": "2023-05-16T07:27:06.681644",
     "status": "completed"
    },
    "tags": []
   },
   "source": [
    "# Keep Going\n",
    "\n",
    "You've learned a lot. But even the best programmers rely heavily on \"libraries\" of code from other programmers. You'll learn about that in **[the last lesson](https://www.kaggle.com/colinmorris/working-with-external-libraries)**.\n"
   ]
  },
  {
   "cell_type": "markdown",
   "id": "d9ff9a7f",
   "metadata": {
    "papermill": {
     "duration": 0.006789,
     "end_time": "2023-05-16T07:27:06.700803",
     "exception": false,
     "start_time": "2023-05-16T07:27:06.694014",
     "status": "completed"
    },
    "tags": []
   },
   "source": [
    "---\n",
    "\n",
    "\n",
    "\n",
    "\n",
    "*Have questions or comments? Visit the [course discussion forum](https://www.kaggle.com/learn/python/discussion) to chat with other learners.*"
   ]
  }
 ],
 "metadata": {
  "kernelspec": {
   "display_name": "Python 3",
   "language": "python",
   "name": "python3"
  },
  "language_info": {
   "codemirror_mode": {
    "name": "ipython",
    "version": 3
   },
   "file_extension": ".py",
   "mimetype": "text/x-python",
   "name": "python",
   "nbconvert_exporter": "python",
   "pygments_lexer": "ipython3",
   "version": "3.10.10"
  },
  "papermill": {
   "default_parameters": {},
   "duration": 11.422622,
   "end_time": "2023-05-16T07:27:07.531223",
   "environment_variables": {},
   "exception": null,
   "input_path": "__notebook__.ipynb",
   "output_path": "__notebook__.ipynb",
   "parameters": {},
   "start_time": "2023-05-16T07:26:56.108601",
   "version": "2.4.0"
  }
 },
 "nbformat": 4,
 "nbformat_minor": 5
}
