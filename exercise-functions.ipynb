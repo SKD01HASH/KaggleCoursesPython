{
 "cells": [
  {
   "cell_type": "markdown",
   "id": "09d73634",
   "metadata": {
    "papermill": {
     "duration": 0.007739,
     "end_time": "2023-05-14T10:50:50.564449",
     "exception": false,
     "start_time": "2023-05-14T10:50:50.556710",
     "status": "completed"
    },
    "tags": []
   },
   "source": [
    "**This notebook is an exercise in the [Intro to Programming](https://www.kaggle.com/learn/intro-to-programming) course.  You can reference the tutorial at [this link](https://www.kaggle.com/alexisbcook/functions).**\n",
    "\n",
    "---\n"
   ]
  },
  {
   "cell_type": "markdown",
   "id": "6a50a7f2",
   "metadata": {
    "papermill": {
     "duration": 0.006737,
     "end_time": "2023-05-14T10:50:50.578395",
     "exception": false,
     "start_time": "2023-05-14T10:50:50.571658",
     "status": "completed"
    },
    "tags": []
   },
   "source": [
    "In the tutorial, you learned about functions. In this exercise, you'll write some of your own!\n",
    "\n",
    "# Set up the notebook\n",
    "\n",
    "Run the next code cell without changes to set up the notebook."
   ]
  },
  {
   "cell_type": "code",
   "execution_count": 1,
   "id": "6b2989fe",
   "metadata": {
    "execution": {
     "iopub.execute_input": "2023-05-14T10:50:50.594325Z",
     "iopub.status.busy": "2023-05-14T10:50:50.593624Z",
     "iopub.status.idle": "2023-05-14T10:50:50.638694Z",
     "shell.execute_reply": "2023-05-14T10:50:50.637625Z"
    },
    "papermill": {
     "duration": 0.056368,
     "end_time": "2023-05-14T10:50:50.641715",
     "exception": false,
     "start_time": "2023-05-14T10:50:50.585347",
     "status": "completed"
    },
    "tags": []
   },
   "outputs": [
    {
     "name": "stdout",
     "output_type": "stream",
     "text": [
      "Setup complete.\n"
     ]
    }
   ],
   "source": [
    "# Set up the exercise\n",
    "import math\n",
    "from learntools.core import binder\n",
    "binder.bind(globals())\n",
    "from learntools.intro_to_programming.ex2 import *\n",
    "print('Setup complete.')"
   ]
  },
  {
   "cell_type": "markdown",
   "id": "240fd9d1",
   "metadata": {
    "papermill": {
     "duration": 0.007044,
     "end_time": "2023-05-14T10:50:50.656179",
     "exception": false,
     "start_time": "2023-05-14T10:50:50.649135",
     "status": "completed"
    },
    "tags": []
   },
   "source": [
    "# Question 1\n",
    "\n",
    "In the [House Prices - Advanced Regression Techniques competition](https://www.kaggle.com/c/house-prices-advanced-regression-techniques/overview), you need to use information like the number of bedrooms and bathrooms to predict the price of a house.  Inspired by this competition, you'll write your own function to do this.\n",
    "\n",
    "In the next code cell, create a function `get_expected_cost()` that has two arguments:\n",
    "- `beds` - number of bedrooms \n",
    "- `baths` - number of bathrooms\n",
    "\n",
    "It should return the expected cost of a house with that number of bedrooms and bathrooms.  Assume that:\n",
    "- the expected cost for a house with 0 bedrooms and 0 bathrooms is `80000`.  \n",
    "- each bedroom adds `30000` to the expected cost\n",
    "- each bathroom adds `10000` to the expected cost.\n",
    "\n",
    "For instance, \n",
    "- a house with 1 bedroom and 1 bathroom has an expected cost of `120000`, and \n",
    "- a house with 2 bedrooms and 1 bathroom has an expected cost of `150000`."
   ]
  },
  {
   "cell_type": "code",
   "execution_count": 2,
   "id": "a04ef104",
   "metadata": {
    "execution": {
     "iopub.execute_input": "2023-05-14T10:50:50.673337Z",
     "iopub.status.busy": "2023-05-14T10:50:50.672925Z",
     "iopub.status.idle": "2023-05-14T10:50:50.683879Z",
     "shell.execute_reply": "2023-05-14T10:50:50.682861Z"
    },
    "papermill": {
     "duration": 0.021796,
     "end_time": "2023-05-14T10:50:50.686047",
     "exception": false,
     "start_time": "2023-05-14T10:50:50.664251",
     "status": "completed"
    },
    "tags": []
   },
   "outputs": [
    {
     "data": {
      "application/javascript": [
       "parent.postMessage({\"jupyterEvent\": \"custom.exercise_interaction\", \"data\": {\"outcomeType\": 1, \"valueTowardsCompletion\": 0.2, \"interactionType\": 1, \"questionType\": 2, \"questionId\": \"1_GetExpectedCost\", \"learnToolsVersion\": \"0.3.4\", \"failureMessage\": \"\", \"exceptionClass\": \"\", \"trace\": \"\"}}, \"*\")"
      ],
      "text/plain": [
       "<IPython.core.display.Javascript object>"
      ]
     },
     "metadata": {},
     "output_type": "display_data"
    },
    {
     "data": {
      "text/markdown": [
       "<span style=\"color:#33cc33\">Correct</span>"
      ],
      "text/plain": [
       "Correct"
      ]
     },
     "metadata": {},
     "output_type": "display_data"
    }
   ],
   "source": [
    "# TODO: Complete the function\n",
    "def get_expected_cost(beds, baths):\n",
    "    value = 80000\n",
    "    value += beds * 30000\n",
    "    value += baths * 10000\n",
    "    return value\n",
    "\n",
    "# Check your answer \n",
    "q1.check()"
   ]
  },
  {
   "cell_type": "code",
   "execution_count": 3,
   "id": "c04b15eb",
   "metadata": {
    "execution": {
     "iopub.execute_input": "2023-05-14T10:50:50.702966Z",
     "iopub.status.busy": "2023-05-14T10:50:50.702601Z",
     "iopub.status.idle": "2023-05-14T10:50:50.706408Z",
     "shell.execute_reply": "2023-05-14T10:50:50.705579Z"
    },
    "papermill": {
     "duration": 0.014545,
     "end_time": "2023-05-14T10:50:50.708302",
     "exception": false,
     "start_time": "2023-05-14T10:50:50.693757",
     "status": "completed"
    },
    "tags": []
   },
   "outputs": [],
   "source": [
    "# Uncomment to see a hint\n",
    "#q1.hint()\n",
    "\n",
    "# Uncomment to view the solution\n",
    "#q1.solution()"
   ]
  },
  {
   "cell_type": "markdown",
   "id": "4c37f87e",
   "metadata": {
    "papermill": {
     "duration": 0.007523,
     "end_time": "2023-05-14T10:50:50.723355",
     "exception": false,
     "start_time": "2023-05-14T10:50:50.715832",
     "status": "completed"
    },
    "tags": []
   },
   "source": [
    "# Question 2\n",
    "\n",
    "You are thinking about buying a home and want to get an idea of how much you will spend, based on the number of bedrooms and bathrooms.  You are trying to decide between four different options:\n",
    "- Option 1: house with two bedrooms and three bathrooms\n",
    "- Option 2: house with three bedrooms and two bathrooms\n",
    "- Option 3: house with three bedrooms and three bathrooms\n",
    "- Option 4: house with three bedrooms and four bathrooms\n",
    "\n",
    "Use the `get_expected_cost()` function you defined in question 1 to set `option_1`, `option_2`, `option_3`, and `option_4` to the expected cost of each option."
   ]
  },
  {
   "cell_type": "code",
   "execution_count": 4,
   "id": "42cc2f30",
   "metadata": {
    "execution": {
     "iopub.execute_input": "2023-05-14T10:50:50.740449Z",
     "iopub.status.busy": "2023-05-14T10:50:50.739441Z",
     "iopub.status.idle": "2023-05-14T10:50:50.751158Z",
     "shell.execute_reply": "2023-05-14T10:50:50.750092Z"
    },
    "papermill": {
     "duration": 0.02276,
     "end_time": "2023-05-14T10:50:50.753621",
     "exception": false,
     "start_time": "2023-05-14T10:50:50.730861",
     "status": "completed"
    },
    "tags": []
   },
   "outputs": [
    {
     "name": "stdout",
     "output_type": "stream",
     "text": [
      "170000\n",
      "190000\n",
      "200000\n",
      "210000\n"
     ]
    },
    {
     "data": {
      "application/javascript": [
       "parent.postMessage({\"jupyterEvent\": \"custom.exercise_interaction\", \"data\": {\"outcomeType\": 1, \"valueTowardsCompletion\": 0.2, \"interactionType\": 1, \"questionType\": 1, \"questionId\": \"2_RunGetExpectedCost\", \"learnToolsVersion\": \"0.3.4\", \"failureMessage\": \"\", \"exceptionClass\": \"\", \"trace\": \"\"}}, \"*\")"
      ],
      "text/plain": [
       "<IPython.core.display.Javascript object>"
      ]
     },
     "metadata": {},
     "output_type": "display_data"
    },
    {
     "data": {
      "text/markdown": [
       "<span style=\"color:#33cc33\">Correct</span>"
      ],
      "text/plain": [
       "Correct"
      ]
     },
     "metadata": {},
     "output_type": "display_data"
    }
   ],
   "source": [
    "# TODO: Use the get_expected_cost function to fill in each value\n",
    "option_one = get_expected_cost(2, 3)\n",
    "option_two = get_expected_cost(3, 2)\n",
    "option_three = get_expected_cost(3, 3)\n",
    "option_four = get_expected_cost(3, 4)\n",
    "\n",
    "print(option_one)\n",
    "print(option_two)\n",
    "print(option_three)\n",
    "print(option_four)\n",
    "\n",
    "# Check your answer\n",
    "q2.check()"
   ]
  },
  {
   "cell_type": "code",
   "execution_count": 5,
   "id": "15d86e2c",
   "metadata": {
    "execution": {
     "iopub.execute_input": "2023-05-14T10:50:50.771641Z",
     "iopub.status.busy": "2023-05-14T10:50:50.771269Z",
     "iopub.status.idle": "2023-05-14T10:50:50.776303Z",
     "shell.execute_reply": "2023-05-14T10:50:50.775204Z"
    },
    "papermill": {
     "duration": 0.016773,
     "end_time": "2023-05-14T10:50:50.778701",
     "exception": false,
     "start_time": "2023-05-14T10:50:50.761928",
     "status": "completed"
    },
    "tags": []
   },
   "outputs": [],
   "source": [
    "# Uncomment to see a hint\n",
    "#q2.hint()\n",
    "\n",
    "# Uncomment to view the solution\n",
    "#q2.solution()"
   ]
  },
  {
   "cell_type": "markdown",
   "id": "e4ea5178",
   "metadata": {
    "papermill": {
     "duration": 0.008154,
     "end_time": "2023-05-14T10:50:50.795134",
     "exception": false,
     "start_time": "2023-05-14T10:50:50.786980",
     "status": "completed"
    },
    "tags": []
   },
   "source": [
    "# Question 3\n",
    "\n",
    "You're a home decorator, and you'd like to use Python to streamline some of your work.  Specifically, you're creating a tool that you intend to use to calculate the cost of painting a room.\n",
    "\n",
    "As a first step, define a function `get_cost()` that takes as input:\n",
    "- `sqft_walls` = total square feet of walls to be painted\n",
    "- `sqft_ceiling` = square feet of ceiling to be painted\n",
    "- `sqft_per_gallon` = number of square feet that you can cover with one gallon of paint\n",
    "- `cost_per_gallon` = cost (in dollars) of one gallon of paint\n",
    "\n",
    "It should return the cost (in dollars) of putting one coat of paint on all walls and the ceiling.  Assume you can buy the exact amount of paint that you need, so you can buy partial gallons (e.g., if you need 7.523 gallons, you can buy that exact amount, instead of needing to buy 8 gallons and waste some paint).  Do not round your answer."
   ]
  },
  {
   "cell_type": "code",
   "execution_count": 6,
   "id": "33e013c2",
   "metadata": {
    "execution": {
     "iopub.execute_input": "2023-05-14T10:50:50.813206Z",
     "iopub.status.busy": "2023-05-14T10:50:50.812818Z",
     "iopub.status.idle": "2023-05-14T10:50:50.820670Z",
     "shell.execute_reply": "2023-05-14T10:50:50.819970Z"
    },
    "papermill": {
     "duration": 0.019152,
     "end_time": "2023-05-14T10:50:50.822657",
     "exception": false,
     "start_time": "2023-05-14T10:50:50.803505",
     "status": "completed"
    },
    "tags": []
   },
   "outputs": [
    {
     "data": {
      "application/javascript": [
       "parent.postMessage({\"jupyterEvent\": \"custom.exercise_interaction\", \"data\": {\"outcomeType\": 1, \"valueTowardsCompletion\": 0.2, \"interactionType\": 1, \"questionType\": 2, \"questionId\": \"3_GetCostPaint\", \"learnToolsVersion\": \"0.3.4\", \"failureMessage\": \"\", \"exceptionClass\": \"\", \"trace\": \"\"}}, \"*\")"
      ],
      "text/plain": [
       "<IPython.core.display.Javascript object>"
      ]
     },
     "metadata": {},
     "output_type": "display_data"
    },
    {
     "data": {
      "text/markdown": [
       "<span style=\"color:#33cc33\">Correct</span>"
      ],
      "text/plain": [
       "Correct"
      ]
     },
     "metadata": {},
     "output_type": "display_data"
    }
   ],
   "source": [
    "# TODO: Finish defining the function\n",
    "def get_cost(sqft_walls, sqft_ceiling, sqft_per_gallon, cost_per_gallon):\n",
    "    total_sqft = sqft_walls + sqft_ceiling\n",
    "    gallons_needed = total_sqft / sqft_per_gallon\n",
    "    cost = gallons_needed * cost_per_gallon\n",
    "    return cost\n",
    "    \n",
    "\n",
    "\n",
    "# Check your answer\n",
    "q3.check()"
   ]
  },
  {
   "cell_type": "code",
   "execution_count": 7,
   "id": "de09e22a",
   "metadata": {
    "execution": {
     "iopub.execute_input": "2023-05-14T10:50:50.841491Z",
     "iopub.status.busy": "2023-05-14T10:50:50.840798Z",
     "iopub.status.idle": "2023-05-14T10:50:50.844952Z",
     "shell.execute_reply": "2023-05-14T10:50:50.844223Z"
    },
    "papermill": {
     "duration": 0.016144,
     "end_time": "2023-05-14T10:50:50.847248",
     "exception": false,
     "start_time": "2023-05-14T10:50:50.831104",
     "status": "completed"
    },
    "tags": []
   },
   "outputs": [],
   "source": [
    "# Uncomment to see a hint\n",
    "#q3.hint()\n",
    "\n",
    "# Uncomment to view the solution\n",
    "#q3.solution()"
   ]
  },
  {
   "cell_type": "markdown",
   "id": "4bc18a0f",
   "metadata": {
    "papermill": {
     "duration": 0.008384,
     "end_time": "2023-05-14T10:50:50.864499",
     "exception": false,
     "start_time": "2023-05-14T10:50:50.856115",
     "status": "completed"
    },
    "tags": []
   },
   "source": [
    "# Question 4\n",
    "\n",
    "Use the `get_cost()` function you defined in Question 3 to calculate the cost of applying one coat of paint to a room with:\n",
    "- 432 square feet of walls, and\n",
    "- 144 square feet of ceiling.\n",
    "\n",
    "Assume that one gallon of paint covers 400 square feet and costs $15.  As in Question 3, assume you can buy partial gallons of paint.  Do not round your answer."
   ]
  },
  {
   "cell_type": "code",
   "execution_count": 8,
   "id": "a045ec63",
   "metadata": {
    "execution": {
     "iopub.execute_input": "2023-05-14T10:50:50.884260Z",
     "iopub.status.busy": "2023-05-14T10:50:50.883637Z",
     "iopub.status.idle": "2023-05-14T10:50:50.891808Z",
     "shell.execute_reply": "2023-05-14T10:50:50.891082Z"
    },
    "papermill": {
     "duration": 0.020438,
     "end_time": "2023-05-14T10:50:50.893772",
     "exception": false,
     "start_time": "2023-05-14T10:50:50.873334",
     "status": "completed"
    },
    "tags": []
   },
   "outputs": [
    {
     "data": {
      "application/javascript": [
       "parent.postMessage({\"jupyterEvent\": \"custom.exercise_interaction\", \"data\": {\"outcomeType\": 1, \"valueTowardsCompletion\": 0.2, \"interactionType\": 1, \"questionType\": 1, \"questionId\": \"4_GetCostPaintExample\", \"learnToolsVersion\": \"0.3.4\", \"failureMessage\": \"\", \"exceptionClass\": \"\", \"trace\": \"\"}}, \"*\")"
      ],
      "text/plain": [
       "<IPython.core.display.Javascript object>"
      ]
     },
     "metadata": {},
     "output_type": "display_data"
    },
    {
     "data": {
      "text/markdown": [
       "<span style=\"color:#33cc33\">Correct</span>"
      ],
      "text/plain": [
       "Correct"
      ]
     },
     "metadata": {},
     "output_type": "display_data"
    }
   ],
   "source": [
    "# TODO: Set the project_cost variable to the cost of the project\n",
    "sqft_walls = 432\n",
    "sqft_ceiling = 144\n",
    "sqft_per_gallon = 400\n",
    "cost_per_gallon = 15\n",
    "project_cost = get_cost(sqft_walls, sqft_ceiling, sqft_per_gallon, cost_per_gallon)\n",
    "\n",
    "# Check your answer\n",
    "q4.check()"
   ]
  },
  {
   "cell_type": "code",
   "execution_count": 9,
   "id": "588bc4cb",
   "metadata": {
    "execution": {
     "iopub.execute_input": "2023-05-14T10:50:50.913914Z",
     "iopub.status.busy": "2023-05-14T10:50:50.913235Z",
     "iopub.status.idle": "2023-05-14T10:50:50.917591Z",
     "shell.execute_reply": "2023-05-14T10:50:50.916530Z"
    },
    "papermill": {
     "duration": 0.017008,
     "end_time": "2023-05-14T10:50:50.919772",
     "exception": false,
     "start_time": "2023-05-14T10:50:50.902764",
     "status": "completed"
    },
    "tags": []
   },
   "outputs": [],
   "source": [
    "# Uncomment to see a hint\n",
    "#q4.hint()\n",
    "\n",
    "# Uncomment to view the solution\n",
    "#q4.solution()"
   ]
  },
  {
   "cell_type": "markdown",
   "id": "826663f1",
   "metadata": {
    "papermill": {
     "duration": 0.009046,
     "end_time": "2023-05-14T10:50:50.937830",
     "exception": false,
     "start_time": "2023-05-14T10:50:50.928784",
     "status": "completed"
    },
    "tags": []
   },
   "source": [
    "# 🌶️ Question 5\n",
    "\n",
    "Now say you can no longer buy fractions of a gallon.  (For instance, if you need 4.3 gallons to do a project, then you have to buy 5 gallons of paint.)\n",
    "\n",
    "With this new scenario, you will create a new function `get_actual_cost` that uses the same inputs and calculates the cost of your project.\n",
    "\n",
    "One function that you'll need to use to do this is `math.ceil()`.  We demonstrate usage of this function in the code cell below.  It takes as a number as input and rounds the number up to the nearest integer.  \n",
    "\n",
    "Run the next code cell to test this function for yourself.  Feel free to change the value of `test_value` and make sure `math.ceil()` returns the number you expect."
   ]
  },
  {
   "cell_type": "code",
   "execution_count": 10,
   "id": "45d71da8",
   "metadata": {
    "execution": {
     "iopub.execute_input": "2023-05-14T10:50:50.957506Z",
     "iopub.status.busy": "2023-05-14T10:50:50.957153Z",
     "iopub.status.idle": "2023-05-14T10:50:50.962819Z",
     "shell.execute_reply": "2023-05-14T10:50:50.961897Z"
    },
    "papermill": {
     "duration": 0.018039,
     "end_time": "2023-05-14T10:50:50.964895",
     "exception": false,
     "start_time": "2023-05-14T10:50:50.946856",
     "status": "completed"
    },
    "tags": []
   },
   "outputs": [
    {
     "name": "stdout",
     "output_type": "stream",
     "text": [
      "3\n"
     ]
    }
   ],
   "source": [
    "test_value = 2.17\n",
    "\n",
    "rounded_value = math.ceil(test_value)\n",
    "print(rounded_value)"
   ]
  },
  {
   "cell_type": "markdown",
   "id": "d0a38ede",
   "metadata": {
    "papermill": {
     "duration": 0.008663,
     "end_time": "2023-05-14T10:50:50.982383",
     "exception": false,
     "start_time": "2023-05-14T10:50:50.973720",
     "status": "completed"
    },
    "tags": []
   },
   "source": [
    "Use the next code cell to define the function `get_actual_cost()`.  You'll need to use the `math.ceil()` function to do this.\n",
    "\n",
    "When answering this question, note that it's completely valid to define a function that makes use of another function.  For instance, we can define a function `round_up_and_divide_by_three` that makes use of the `math.ceil` function:\n",
    "```\n",
    "def round_up_and_divide_by_three(num):\n",
    "    new_value = math.ceil(num)\n",
    "    final_value = new_value / 3\n",
    "    return final_value\n",
    "```"
   ]
  },
  {
   "cell_type": "code",
   "execution_count": 11,
   "id": "cdf45d81",
   "metadata": {
    "execution": {
     "iopub.execute_input": "2023-05-14T10:50:51.002881Z",
     "iopub.status.busy": "2023-05-14T10:50:51.001883Z",
     "iopub.status.idle": "2023-05-14T10:50:51.012010Z",
     "shell.execute_reply": "2023-05-14T10:50:51.011075Z"
    },
    "papermill": {
     "duration": 0.022933,
     "end_time": "2023-05-14T10:50:51.014115",
     "exception": false,
     "start_time": "2023-05-14T10:50:50.991182",
     "status": "completed"
    },
    "tags": []
   },
   "outputs": [
    {
     "data": {
      "application/javascript": [
       "parent.postMessage({\"jupyterEvent\": \"custom.exercise_interaction\", \"data\": {\"outcomeType\": 1, \"valueTowardsCompletion\": 0.2, \"interactionType\": 1, \"questionType\": 2, \"questionId\": \"5_NoMoreFractions\", \"learnToolsVersion\": \"0.3.4\", \"failureMessage\": \"\", \"exceptionClass\": \"\", \"trace\": \"\"}}, \"*\")"
      ],
      "text/plain": [
       "<IPython.core.display.Javascript object>"
      ]
     },
     "metadata": {},
     "output_type": "display_data"
    },
    {
     "data": {
      "text/markdown": [
       "<span style=\"color:#33cc33\">Correct</span>"
      ],
      "text/plain": [
       "Correct"
      ]
     },
     "metadata": {},
     "output_type": "display_data"
    }
   ],
   "source": [
    "import math\n",
    "\n",
    "def get_actual_cost(sqft_walls, sqft_ceiling, sqft_per_gallon, cost_per_gallon):\n",
    "    total_sqft = sqft_walls + sqft_ceiling\n",
    "    gallons_needed = total_sqft / sqft_per_gallon\n",
    "    actual_gallons_needed = math.ceil(gallons_needed)\n",
    "    actual_cost = actual_gallons_needed * cost_per_gallon\n",
    "    return actual_cost\n",
    "\n",
    "\n",
    "\n",
    "# Check your answer\n",
    "q5.check()"
   ]
  },
  {
   "cell_type": "code",
   "execution_count": 12,
   "id": "d3e442fd",
   "metadata": {
    "execution": {
     "iopub.execute_input": "2023-05-14T10:50:51.033999Z",
     "iopub.status.busy": "2023-05-14T10:50:51.033619Z",
     "iopub.status.idle": "2023-05-14T10:50:51.038249Z",
     "shell.execute_reply": "2023-05-14T10:50:51.037207Z"
    },
    "papermill": {
     "duration": 0.017678,
     "end_time": "2023-05-14T10:50:51.040801",
     "exception": false,
     "start_time": "2023-05-14T10:50:51.023123",
     "status": "completed"
    },
    "tags": []
   },
   "outputs": [],
   "source": [
    "# Uncomment to see a hint\n",
    "#q5.hint()\n",
    "\n",
    "# Uncomment to view the solution\n",
    "#q5.solution()"
   ]
  },
  {
   "cell_type": "markdown",
   "id": "ed058fad",
   "metadata": {
    "papermill": {
     "duration": 0.009004,
     "end_time": "2023-05-14T10:50:51.059431",
     "exception": false,
     "start_time": "2023-05-14T10:50:51.050427",
     "status": "completed"
    },
    "tags": []
   },
   "source": [
    "Once your function is verified as correct, run the next code cell to calculate the updated cost of your project."
   ]
  },
  {
   "cell_type": "code",
   "execution_count": 13,
   "id": "e6c3a228",
   "metadata": {
    "execution": {
     "iopub.execute_input": "2023-05-14T10:50:51.080202Z",
     "iopub.status.busy": "2023-05-14T10:50:51.079176Z",
     "iopub.status.idle": "2023-05-14T10:50:51.085146Z",
     "shell.execute_reply": "2023-05-14T10:50:51.084406Z"
    },
    "papermill": {
     "duration": 0.018658,
     "end_time": "2023-05-14T10:50:51.087171",
     "exception": false,
     "start_time": "2023-05-14T10:50:51.068513",
     "status": "completed"
    },
    "tags": []
   },
   "outputs": [
    {
     "data": {
      "text/plain": [
       "30"
      ]
     },
     "execution_count": 13,
     "metadata": {},
     "output_type": "execute_result"
    }
   ],
   "source": [
    "get_actual_cost(432, 144, 400, 15) "
   ]
  },
  {
   "cell_type": "markdown",
   "id": "bbc8ff0c",
   "metadata": {
    "papermill": {
     "duration": 0.009091,
     "end_time": "2023-05-14T10:50:51.105838",
     "exception": false,
     "start_time": "2023-05-14T10:50:51.096747",
     "status": "completed"
    },
    "tags": []
   },
   "source": [
    "Say you're working with a slightly larger room.  Run the next code cell to calculate the cost of the project."
   ]
  },
  {
   "cell_type": "code",
   "execution_count": 14,
   "id": "5f116dca",
   "metadata": {
    "execution": {
     "iopub.execute_input": "2023-05-14T10:50:51.126884Z",
     "iopub.status.busy": "2023-05-14T10:50:51.126251Z",
     "iopub.status.idle": "2023-05-14T10:50:51.131967Z",
     "shell.execute_reply": "2023-05-14T10:50:51.131256Z"
    },
    "papermill": {
     "duration": 0.018629,
     "end_time": "2023-05-14T10:50:51.133939",
     "exception": false,
     "start_time": "2023-05-14T10:50:51.115310",
     "status": "completed"
    },
    "tags": []
   },
   "outputs": [
    {
     "data": {
      "text/plain": [
       "45"
      ]
     },
     "execution_count": 14,
     "metadata": {},
     "output_type": "execute_result"
    }
   ],
   "source": [
    "get_actual_cost(594, 288, 400, 15) "
   ]
  },
  {
   "cell_type": "markdown",
   "id": "048145a6",
   "metadata": {
    "papermill": {
     "duration": 0.009303,
     "end_time": "2023-05-14T10:50:51.152915",
     "exception": false,
     "start_time": "2023-05-14T10:50:51.143612",
     "status": "completed"
    },
    "tags": []
   },
   "source": [
    "# Keep going\n",
    "\n",
    "Continue to learn about **[data types](https://www.kaggle.com/alexisbcook/data-types)**."
   ]
  },
  {
   "cell_type": "markdown",
   "id": "b512c547",
   "metadata": {
    "papermill": {
     "duration": 0.00959,
     "end_time": "2023-05-14T10:50:51.172254",
     "exception": false,
     "start_time": "2023-05-14T10:50:51.162664",
     "status": "completed"
    },
    "tags": []
   },
   "source": [
    "---\n",
    "\n",
    "\n",
    "\n",
    "\n",
    "*Have questions or comments? Visit the [course discussion forum](https://www.kaggle.com/learn/intro-to-programming/discussion) to chat with other learners.*"
   ]
  }
 ],
 "metadata": {
  "kernelspec": {
   "display_name": "Python 3",
   "language": "python",
   "name": "python3"
  },
  "language_info": {
   "codemirror_mode": {
    "name": "ipython",
    "version": 3
   },
   "file_extension": ".py",
   "mimetype": "text/x-python",
   "name": "python",
   "nbconvert_exporter": "python",
   "pygments_lexer": "ipython3",
   "version": "3.10.10"
  },
  "papermill": {
   "default_parameters": {},
   "duration": 12.931003,
   "end_time": "2023-05-14T10:50:52.002963",
   "environment_variables": {},
   "exception": null,
   "input_path": "__notebook__.ipynb",
   "output_path": "__notebook__.ipynb",
   "parameters": {},
   "start_time": "2023-05-14T10:50:39.071960",
   "version": "2.4.0"
  }
 },
 "nbformat": 4,
 "nbformat_minor": 5
}
