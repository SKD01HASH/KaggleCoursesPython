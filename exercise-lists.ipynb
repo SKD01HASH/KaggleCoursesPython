{
 "cells": [
  {
   "cell_type": "markdown",
   "id": "840ac2ce",
   "metadata": {
    "papermill": {
     "duration": 0.006611,
     "end_time": "2023-05-15T18:01:48.336347",
     "exception": false,
     "start_time": "2023-05-15T18:01:48.329736",
     "status": "completed"
    },
    "tags": []
   },
   "source": [
    "**This notebook is an exercise in the [Python](https://www.kaggle.com/learn/python) course.  You can reference the tutorial at [this link](https://www.kaggle.com/colinmorris/lists).**\n",
    "\n",
    "---\n"
   ]
  },
  {
   "cell_type": "markdown",
   "id": "1e038029",
   "metadata": {
    "papermill": {
     "duration": 0.005847,
     "end_time": "2023-05-15T18:01:48.348652",
     "exception": false,
     "start_time": "2023-05-15T18:01:48.342805",
     "status": "completed"
    },
    "tags": []
   },
   "source": [
    "Things get more interesting with lists. You'll apply your new knowledge to solve the questions below. Remember to run the following cell first."
   ]
  },
  {
   "cell_type": "code",
   "execution_count": 1,
   "id": "ea9aa980",
   "metadata": {
    "execution": {
     "iopub.execute_input": "2023-05-15T18:01:48.362841Z",
     "iopub.status.busy": "2023-05-15T18:01:48.362477Z",
     "iopub.status.idle": "2023-05-15T18:01:48.412736Z",
     "shell.execute_reply": "2023-05-15T18:01:48.411600Z"
    },
    "papermill": {
     "duration": 0.060718,
     "end_time": "2023-05-15T18:01:48.415503",
     "exception": false,
     "start_time": "2023-05-15T18:01:48.354785",
     "status": "completed"
    },
    "tags": []
   },
   "outputs": [
    {
     "name": "stdout",
     "output_type": "stream",
     "text": [
      "Setup complete.\n"
     ]
    }
   ],
   "source": [
    "from learntools.core import binder; binder.bind(globals())\n",
    "from learntools.python.ex4 import *\n",
    "print('Setup complete.')"
   ]
  },
  {
   "cell_type": "markdown",
   "id": "635753c9",
   "metadata": {
    "papermill": {
     "duration": 0.005933,
     "end_time": "2023-05-15T18:01:48.428149",
     "exception": false,
     "start_time": "2023-05-15T18:01:48.422216",
     "status": "completed"
    },
    "tags": []
   },
   "source": [
    "# 1.\n",
    "\n",
    "Complete the function below according to its docstring."
   ]
  },
  {
   "cell_type": "code",
   "execution_count": 2,
   "id": "7030648d",
   "metadata": {
    "execution": {
     "iopub.execute_input": "2023-05-15T18:01:48.443457Z",
     "iopub.status.busy": "2023-05-15T18:01:48.442385Z",
     "iopub.status.idle": "2023-05-15T18:01:48.454471Z",
     "shell.execute_reply": "2023-05-15T18:01:48.453306Z"
    },
    "papermill": {
     "duration": 0.022198,
     "end_time": "2023-05-15T18:01:48.456728",
     "exception": false,
     "start_time": "2023-05-15T18:01:48.434530",
     "status": "completed"
    },
    "tags": []
   },
   "outputs": [
    {
     "data": {
      "application/javascript": [
       "parent.postMessage({\"jupyterEvent\": \"custom.exercise_interaction\", \"data\": {\"outcomeType\": 1, \"valueTowardsCompletion\": 0.2, \"interactionType\": 1, \"questionType\": 2, \"questionId\": \"1_SelectSecondItem\", \"learnToolsVersion\": \"0.3.4\", \"failureMessage\": \"\", \"exceptionClass\": \"\", \"trace\": \"\"}}, \"*\")"
      ],
      "text/plain": [
       "<IPython.core.display.Javascript object>"
      ]
     },
     "metadata": {},
     "output_type": "display_data"
    },
    {
     "data": {
      "text/markdown": [
       "<span style=\"color:#33cc33\">Correct</span>"
      ],
      "text/plain": [
       "Correct"
      ]
     },
     "metadata": {},
     "output_type": "display_data"
    }
   ],
   "source": [
    "def select_second(L):\n",
    "    \"\"\"Return the second element of the given list. If the list has no second\n",
    "    element, return None.\n",
    "    \"\"\"\n",
    "    if len(L) < 2:\n",
    "        return None\n",
    "    return L[1]\n",
    "\n",
    "# Check your answer\n",
    "q1.check()"
   ]
  },
  {
   "cell_type": "code",
   "execution_count": 3,
   "id": "2b6d93ff",
   "metadata": {
    "collapsed": true,
    "execution": {
     "iopub.execute_input": "2023-05-15T18:01:48.471728Z",
     "iopub.status.busy": "2023-05-15T18:01:48.471331Z",
     "iopub.status.idle": "2023-05-15T18:01:48.476013Z",
     "shell.execute_reply": "2023-05-15T18:01:48.474930Z"
    },
    "jupyter": {
     "outputs_hidden": true
    },
    "papermill": {
     "duration": 0.015232,
     "end_time": "2023-05-15T18:01:48.478360",
     "exception": false,
     "start_time": "2023-05-15T18:01:48.463128",
     "status": "completed"
    },
    "tags": []
   },
   "outputs": [],
   "source": [
    "#q1.hint()\n",
    "#q1.solution()"
   ]
  },
  {
   "cell_type": "markdown",
   "id": "9dd2ceab",
   "metadata": {
    "papermill": {
     "duration": 0.006331,
     "end_time": "2023-05-15T18:01:48.491369",
     "exception": false,
     "start_time": "2023-05-15T18:01:48.485038",
     "status": "completed"
    },
    "tags": []
   },
   "source": [
    "# 2.\n",
    "\n",
    "You are analyzing sports teams.  Members of each team are stored in a list. The Coach is the first name in the list, the captain is the second name in the list, and other players are listed after that. \n",
    "These lists are stored in another list, which starts with the best team and proceeds through the list to the worst team last.  Complete the function below to select the **captain** of the worst team."
   ]
  },
  {
   "cell_type": "code",
   "execution_count": 4,
   "id": "0168a52e",
   "metadata": {
    "execution": {
     "iopub.execute_input": "2023-05-15T18:01:48.506218Z",
     "iopub.status.busy": "2023-05-15T18:01:48.505561Z",
     "iopub.status.idle": "2023-05-15T18:01:48.515035Z",
     "shell.execute_reply": "2023-05-15T18:01:48.514149Z"
    },
    "papermill": {
     "duration": 0.019487,
     "end_time": "2023-05-15T18:01:48.517330",
     "exception": false,
     "start_time": "2023-05-15T18:01:48.497843",
     "status": "completed"
    },
    "tags": []
   },
   "outputs": [
    {
     "data": {
      "application/javascript": [
       "parent.postMessage({\"jupyterEvent\": \"custom.exercise_interaction\", \"data\": {\"outcomeType\": 1, \"valueTowardsCompletion\": 0.2, \"interactionType\": 1, \"questionType\": 2, \"questionId\": \"2_LosingTeamCaptain\", \"learnToolsVersion\": \"0.3.4\", \"failureMessage\": \"\", \"exceptionClass\": \"\", \"trace\": \"\"}}, \"*\")"
      ],
      "text/plain": [
       "<IPython.core.display.Javascript object>"
      ]
     },
     "metadata": {},
     "output_type": "display_data"
    },
    {
     "data": {
      "text/markdown": [
       "<span style=\"color:#33cc33\">Correct</span>"
      ],
      "text/plain": [
       "Correct"
      ]
     },
     "metadata": {},
     "output_type": "display_data"
    }
   ],
   "source": [
    "def losing_team_captain(teams):\n",
    "    \"\"\"Given a list of teams, where each team is a list of names, return the 2nd player (captain)\n",
    "    from the last listed team\n",
    "    \"\"\"\n",
    "    last_team = teams[-1]\n",
    "    captain = last_team[1]\n",
    "    return captain\n",
    "\n",
    "# Check your answer\n",
    "q2.check()"
   ]
  },
  {
   "cell_type": "code",
   "execution_count": 5,
   "id": "22f3b4c7",
   "metadata": {
    "collapsed": true,
    "execution": {
     "iopub.execute_input": "2023-05-15T18:01:48.533302Z",
     "iopub.status.busy": "2023-05-15T18:01:48.532934Z",
     "iopub.status.idle": "2023-05-15T18:01:48.537061Z",
     "shell.execute_reply": "2023-05-15T18:01:48.536054Z"
    },
    "jupyter": {
     "outputs_hidden": true
    },
    "papermill": {
     "duration": 0.014868,
     "end_time": "2023-05-15T18:01:48.539278",
     "exception": false,
     "start_time": "2023-05-15T18:01:48.524410",
     "status": "completed"
    },
    "tags": []
   },
   "outputs": [],
   "source": [
    "#q2.hint()\n",
    "#q2.solution()"
   ]
  },
  {
   "cell_type": "markdown",
   "id": "0c7bad58",
   "metadata": {
    "papermill": {
     "duration": 0.00682,
     "end_time": "2023-05-15T18:01:48.553058",
     "exception": false,
     "start_time": "2023-05-15T18:01:48.546238",
     "status": "completed"
    },
    "tags": []
   },
   "source": [
    "# 3.\n",
    "\n",
    "The next iteration of Mario Kart will feature an extra-infuriating new item, the *Purple Shell*. When used, it warps the last place racer into first place and the first place racer into last place. Complete the function below to implement the Purple Shell's effect."
   ]
  },
  {
   "cell_type": "code",
   "execution_count": 6,
   "id": "466ad3e8",
   "metadata": {
    "execution": {
     "iopub.execute_input": "2023-05-15T18:01:48.569265Z",
     "iopub.status.busy": "2023-05-15T18:01:48.568853Z",
     "iopub.status.idle": "2023-05-15T18:01:48.578791Z",
     "shell.execute_reply": "2023-05-15T18:01:48.577703Z"
    },
    "papermill": {
     "duration": 0.020813,
     "end_time": "2023-05-15T18:01:48.581097",
     "exception": false,
     "start_time": "2023-05-15T18:01:48.560284",
     "status": "completed"
    },
    "tags": []
   },
   "outputs": [
    {
     "data": {
      "application/javascript": [
       "parent.postMessage({\"jupyterEvent\": \"custom.exercise_interaction\", \"data\": {\"outcomeType\": 1, \"valueTowardsCompletion\": 0.2, \"interactionType\": 1, \"questionType\": 2, \"questionId\": \"3_PurpleShell\", \"learnToolsVersion\": \"0.3.4\", \"failureMessage\": \"\", \"exceptionClass\": \"\", \"trace\": \"\"}}, \"*\")"
      ],
      "text/plain": [
       "<IPython.core.display.Javascript object>"
      ]
     },
     "metadata": {},
     "output_type": "display_data"
    },
    {
     "data": {
      "text/markdown": [
       "<span style=\"color:#33cc33\">Correct</span>"
      ],
      "text/plain": [
       "Correct"
      ]
     },
     "metadata": {},
     "output_type": "display_data"
    }
   ],
   "source": [
    "def purple_shell(racers):\n",
    "    if len(racers) > 1:\n",
    "        racers[0], racers[-1] = racers[-1], racers[0]\n",
    "\n",
    "\n",
    "   \n",
    "\n",
    "# Check your answer\n",
    "q3.check()"
   ]
  },
  {
   "cell_type": "code",
   "execution_count": 7,
   "id": "c44ea8cb",
   "metadata": {
    "collapsed": true,
    "execution": {
     "iopub.execute_input": "2023-05-15T18:01:48.597257Z",
     "iopub.status.busy": "2023-05-15T18:01:48.596849Z",
     "iopub.status.idle": "2023-05-15T18:01:48.601319Z",
     "shell.execute_reply": "2023-05-15T18:01:48.600420Z"
    },
    "jupyter": {
     "outputs_hidden": true
    },
    "papermill": {
     "duration": 0.014972,
     "end_time": "2023-05-15T18:01:48.603393",
     "exception": false,
     "start_time": "2023-05-15T18:01:48.588421",
     "status": "completed"
    },
    "tags": []
   },
   "outputs": [],
   "source": [
    "#q3.hint()\n",
    "#q3.solution()"
   ]
  },
  {
   "cell_type": "markdown",
   "id": "f2f46204",
   "metadata": {
    "papermill": {
     "duration": 0.007457,
     "end_time": "2023-05-15T18:01:48.618236",
     "exception": false,
     "start_time": "2023-05-15T18:01:48.610779",
     "status": "completed"
    },
    "tags": []
   },
   "source": [
    "# 4.\n",
    "\n",
    "What are the lengths of the following lists? Fill in the variable `lengths` with your predictions. (Try to make a prediction for each list *without* just calling `len()` on it.)"
   ]
  },
  {
   "cell_type": "code",
   "execution_count": 8,
   "id": "c56f32a9",
   "metadata": {
    "execution": {
     "iopub.execute_input": "2023-05-15T18:01:48.635296Z",
     "iopub.status.busy": "2023-05-15T18:01:48.634925Z",
     "iopub.status.idle": "2023-05-15T18:01:48.643472Z",
     "shell.execute_reply": "2023-05-15T18:01:48.642426Z"
    },
    "papermill": {
     "duration": 0.019989,
     "end_time": "2023-05-15T18:01:48.645947",
     "exception": false,
     "start_time": "2023-05-15T18:01:48.625958",
     "status": "completed"
    },
    "tags": []
   },
   "outputs": [
    {
     "data": {
      "application/javascript": [
       "parent.postMessage({\"jupyterEvent\": \"custom.exercise_interaction\", \"data\": {\"outcomeType\": 1, \"valueTowardsCompletion\": 0.2, \"interactionType\": 1, \"questionType\": 1, \"questionId\": \"4_UnderstandLen\", \"learnToolsVersion\": \"0.3.4\", \"failureMessage\": \"\", \"exceptionClass\": \"\", \"trace\": \"\"}}, \"*\")"
      ],
      "text/plain": [
       "<IPython.core.display.Javascript object>"
      ]
     },
     "metadata": {},
     "output_type": "display_data"
    },
    {
     "data": {
      "text/markdown": [
       "<span style=\"color:#33cc33\">Correct:</span> \n",
       "\n",
       "\n",
       "- a: There are three items in this list. Nothing tricky yet.\n",
       "- b: The list `[2, 3]` counts as a single item. It has one item before it. So we have 2 items in the list\n",
       "- c: The empty list has 0 items\n",
       "- d: The expression is the same as the list `[2, 3]`, which has length 2."
      ],
      "text/plain": [
       "Correct: \n",
       "\n",
       "\n",
       "- a: There are three items in this list. Nothing tricky yet.\n",
       "- b: The list `[2, 3]` counts as a single item. It has one item before it. So we have 2 items in the list\n",
       "- c: The empty list has 0 items\n",
       "- d: The expression is the same as the list `[2, 3]`, which has length 2."
      ]
     },
     "metadata": {},
     "output_type": "display_data"
    }
   ],
   "source": [
    "a = [1, 2, 3]\n",
    "b = [1, [2, 3]]\n",
    "c = []\n",
    "d = [1, 2, 3][1:]\n",
    "\n",
    "# Put your predictions in the list below. Lengths should contain 4 numbers, the\n",
    "# first being the length of a, the second being the length of b and so on.\n",
    "lengths = [3, 2, 0, 2]\n",
    "\n",
    "# Check your answer\n",
    "q4.check()"
   ]
  },
  {
   "cell_type": "code",
   "execution_count": 9,
   "id": "a7cf86af",
   "metadata": {
    "collapsed": true,
    "execution": {
     "iopub.execute_input": "2023-05-15T18:01:48.663836Z",
     "iopub.status.busy": "2023-05-15T18:01:48.663468Z",
     "iopub.status.idle": "2023-05-15T18:01:48.667127Z",
     "shell.execute_reply": "2023-05-15T18:01:48.666403Z"
    },
    "jupyter": {
     "outputs_hidden": true
    },
    "papermill": {
     "duration": 0.015146,
     "end_time": "2023-05-15T18:01:48.669161",
     "exception": false,
     "start_time": "2023-05-15T18:01:48.654015",
     "status": "completed"
    },
    "tags": []
   },
   "outputs": [],
   "source": [
    "# line below provides some explanation\n",
    "#q4.solution()"
   ]
  },
  {
   "cell_type": "markdown",
   "id": "0dad2cbe",
   "metadata": {
    "papermill": {
     "duration": 0.007374,
     "end_time": "2023-05-15T18:01:48.684285",
     "exception": false,
     "start_time": "2023-05-15T18:01:48.676911",
     "status": "completed"
    },
    "tags": []
   },
   "source": [
    "# 5. <span title=\"A bit spicy\" style=\"color: darkgreen \">🌶️</span>\n",
    "\n",
    "We're using lists to record people who attended our party and what order they arrived in. For example, the following list represents a party with 7 guests, in which Adela showed up first and Ford was the last to arrive:\n",
    "\n",
    "    party_attendees = ['Adela', 'Fleda', 'Owen', 'May', 'Mona', 'Gilbert', 'Ford']\n",
    "\n",
    "A guest is considered 'fashionably late' if they arrived after at least half of the party's guests. However, they must not be the very last guest (that's taking it too far). In the above example, Mona and Gilbert are the only guests who were fashionably late.\n",
    "\n",
    "Complete the function below which takes a list of party attendees as well as a person, and tells us whether that person is fashionably late."
   ]
  },
  {
   "cell_type": "code",
   "execution_count": 10,
   "id": "b49061e0",
   "metadata": {
    "execution": {
     "iopub.execute_input": "2023-05-15T18:01:48.701756Z",
     "iopub.status.busy": "2023-05-15T18:01:48.701398Z",
     "iopub.status.idle": "2023-05-15T18:01:48.708668Z",
     "shell.execute_reply": "2023-05-15T18:01:48.707810Z"
    },
    "papermill": {
     "duration": 0.018887,
     "end_time": "2023-05-15T18:01:48.710980",
     "exception": false,
     "start_time": "2023-05-15T18:01:48.692093",
     "status": "completed"
    },
    "tags": []
   },
   "outputs": [
    {
     "data": {
      "application/javascript": [
       "parent.postMessage({\"jupyterEvent\": \"custom.exercise_interaction\", \"data\": {\"outcomeType\": 4, \"interactionType\": 1, \"questionType\": 2, \"questionId\": \"5_FashionablyLate\", \"learnToolsVersion\": \"0.3.4\", \"valueTowardsCompletion\": 0.0, \"failureMessage\": \"\", \"exceptionClass\": \"\", \"trace\": \"\"}}, \"*\")"
      ],
      "text/plain": [
       "<IPython.core.display.Javascript object>"
      ]
     },
     "metadata": {},
     "output_type": "display_data"
    },
    {
     "data": {
      "text/markdown": [
       "<span style=\"color:#ccaa33\">Check:</span> When you've updated the starter code, `check()` will tell you whether your code is correct. Remember, you must create the following variable: `fashionably_late`"
      ],
      "text/plain": [
       "Check: When you've updated the starter code, `check()` will tell you whether your code is correct. Remember, you must create the following variable: `fashionably_late`"
      ]
     },
     "metadata": {},
     "output_type": "display_data"
    }
   ],
   "source": [
    "\n",
    "\n",
    "# Check your answer\n",
    "q5.check()"
   ]
  },
  {
   "cell_type": "code",
   "execution_count": 11,
   "id": "7c6955e0",
   "metadata": {
    "collapsed": true,
    "execution": {
     "iopub.execute_input": "2023-05-15T18:01:48.729184Z",
     "iopub.status.busy": "2023-05-15T18:01:48.728781Z",
     "iopub.status.idle": "2023-05-15T18:01:48.732711Z",
     "shell.execute_reply": "2023-05-15T18:01:48.731796Z"
    },
    "jupyter": {
     "outputs_hidden": true
    },
    "papermill": {
     "duration": 0.015607,
     "end_time": "2023-05-15T18:01:48.734756",
     "exception": false,
     "start_time": "2023-05-15T18:01:48.719149",
     "status": "completed"
    },
    "tags": []
   },
   "outputs": [],
   "source": [
    "#q5.hint()\n",
    "#q5.solution()"
   ]
  },
  {
   "cell_type": "markdown",
   "id": "2507e53c",
   "metadata": {
    "papermill": {
     "duration": 0.007961,
     "end_time": "2023-05-15T18:01:48.750970",
     "exception": false,
     "start_time": "2023-05-15T18:01:48.743009",
     "status": "completed"
    },
    "tags": []
   },
   "source": [
    "# Keep Going\n",
    "\n",
    "That's it for lists and tuples! Now you have the baseline knowledge to **[learn about loops](https://www.kaggle.com/colinmorris/loops-and-list-comprehensions)**, which is where lists and tuples get really interesting. "
   ]
  },
  {
   "cell_type": "markdown",
   "id": "8dfb99ff",
   "metadata": {
    "papermill": {
     "duration": 0.00773,
     "end_time": "2023-05-15T18:01:48.766816",
     "exception": false,
     "start_time": "2023-05-15T18:01:48.759086",
     "status": "completed"
    },
    "tags": []
   },
   "source": [
    "---\n",
    "\n",
    "\n",
    "\n",
    "\n",
    "*Have questions or comments? Visit the [course discussion forum](https://www.kaggle.com/learn/python/discussion) to chat with other learners.*"
   ]
  }
 ],
 "metadata": {
  "kernelspec": {
   "display_name": "Python 3",
   "language": "python",
   "name": "python3"
  },
  "language_info": {
   "codemirror_mode": {
    "name": "ipython",
    "version": 3
   },
   "file_extension": ".py",
   "mimetype": "text/x-python",
   "name": "python",
   "nbconvert_exporter": "python",
   "pygments_lexer": "ipython3",
   "version": "3.10.10"
  },
  "papermill": {
   "default_parameters": {},
   "duration": 13.770618,
   "end_time": "2023-05-15T18:01:49.596466",
   "environment_variables": {},
   "exception": null,
   "input_path": "__notebook__.ipynb",
   "output_path": "__notebook__.ipynb",
   "parameters": {},
   "start_time": "2023-05-15T18:01:35.825848",
   "version": "2.4.0"
  }
 },
 "nbformat": 4,
 "nbformat_minor": 5
}
