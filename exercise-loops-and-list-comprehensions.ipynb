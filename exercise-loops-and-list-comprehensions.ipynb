{
 "cells": [
  {
   "cell_type": "markdown",
   "id": "6668d960",
   "metadata": {
    "papermill": {
     "duration": 0.007453,
     "end_time": "2023-05-15T18:52:28.072612",
     "exception": false,
     "start_time": "2023-05-15T18:52:28.065159",
     "status": "completed"
    },
    "tags": []
   },
   "source": [
    "**This notebook is an exercise in the [Python](https://www.kaggle.com/learn/python) course.  You can reference the tutorial at [this link](https://www.kaggle.com/colinmorris/loops-and-list-comprehensions).**\n",
    "\n",
    "---\n"
   ]
  },
  {
   "cell_type": "markdown",
   "id": "8eda76f5",
   "metadata": {
    "papermill": {
     "duration": 0.007229,
     "end_time": "2023-05-15T18:52:28.087232",
     "exception": false,
     "start_time": "2023-05-15T18:52:28.080003",
     "status": "completed"
    },
    "tags": []
   },
   "source": [
    "With all you've learned, you can start writing much more interesting programs. See if you can solve the problems below.\n",
    "\n",
    "As always, run the setup code below before working on the questions."
   ]
  },
  {
   "cell_type": "code",
   "execution_count": 1,
   "id": "4bf0e619",
   "metadata": {
    "execution": {
     "iopub.execute_input": "2023-05-15T18:52:28.104234Z",
     "iopub.status.busy": "2023-05-15T18:52:28.103491Z",
     "iopub.status.idle": "2023-05-15T18:52:28.162338Z",
     "shell.execute_reply": "2023-05-15T18:52:28.160680Z"
    },
    "papermill": {
     "duration": 0.071625,
     "end_time": "2023-05-15T18:52:28.166047",
     "exception": false,
     "start_time": "2023-05-15T18:52:28.094422",
     "status": "completed"
    },
    "tags": []
   },
   "outputs": [
    {
     "name": "stdout",
     "output_type": "stream",
     "text": [
      "Setup complete.\n"
     ]
    }
   ],
   "source": [
    "from learntools.core import binder; binder.bind(globals())\n",
    "from learntools.python.ex5 import *\n",
    "print('Setup complete.')"
   ]
  },
  {
   "cell_type": "markdown",
   "id": "811b1674",
   "metadata": {
    "papermill": {
     "duration": 0.006872,
     "end_time": "2023-05-15T18:52:28.180112",
     "exception": false,
     "start_time": "2023-05-15T18:52:28.173240",
     "status": "completed"
    },
    "tags": []
   },
   "source": [
    "# 1.\n",
    "\n",
    "Have you ever felt debugging involved a bit of luck? The following program has a bug. Try to identify the bug and fix it."
   ]
  },
  {
   "cell_type": "code",
   "execution_count": 2,
   "id": "97f96241",
   "metadata": {
    "execution": {
     "iopub.execute_input": "2023-05-15T18:52:28.197726Z",
     "iopub.status.busy": "2023-05-15T18:52:28.197295Z",
     "iopub.status.idle": "2023-05-15T18:52:28.204518Z",
     "shell.execute_reply": "2023-05-15T18:52:28.203027Z"
    },
    "papermill": {
     "duration": 0.018882,
     "end_time": "2023-05-15T18:52:28.206961",
     "exception": false,
     "start_time": "2023-05-15T18:52:28.188079",
     "status": "completed"
    },
    "tags": []
   },
   "outputs": [],
   "source": [
    "def has_lucky_number(nums):\n",
    "    \"\"\"Return whether the given list of numbers is lucky. A lucky list contains\n",
    "    at least one number divisible by 7.\n",
    "    \"\"\"\n",
    "    for num in nums:\n",
    "        if num % 7 == 0:\n",
    "            return True\n",
    "        else:\n",
    "            return False"
   ]
  },
  {
   "cell_type": "markdown",
   "id": "ea36b81d",
   "metadata": {
    "papermill": {
     "duration": 0.006692,
     "end_time": "2023-05-15T18:52:28.220867",
     "exception": false,
     "start_time": "2023-05-15T18:52:28.214175",
     "status": "completed"
    },
    "tags": []
   },
   "source": [
    "Try to identify the bug and fix it in the cell below:"
   ]
  },
  {
   "cell_type": "code",
   "execution_count": 3,
   "id": "b362559e",
   "metadata": {
    "execution": {
     "iopub.execute_input": "2023-05-15T18:52:28.237622Z",
     "iopub.status.busy": "2023-05-15T18:52:28.236593Z",
     "iopub.status.idle": "2023-05-15T18:52:28.249258Z",
     "shell.execute_reply": "2023-05-15T18:52:28.248146Z"
    },
    "papermill": {
     "duration": 0.023794,
     "end_time": "2023-05-15T18:52:28.251643",
     "exception": false,
     "start_time": "2023-05-15T18:52:28.227849",
     "status": "completed"
    },
    "tags": []
   },
   "outputs": [
    {
     "data": {
      "application/javascript": [
       "parent.postMessage({\"jupyterEvent\": \"custom.exercise_interaction\", \"data\": {\"outcomeType\": 1, \"valueTowardsCompletion\": 0.25, \"interactionType\": 1, \"questionType\": 2, \"questionId\": \"1_EarlyExitDebugging\", \"learnToolsVersion\": \"0.3.4\", \"failureMessage\": \"\", \"exceptionClass\": \"\", \"trace\": \"\"}}, \"*\")"
      ],
      "text/plain": [
       "<IPython.core.display.Javascript object>"
      ]
     },
     "metadata": {},
     "output_type": "display_data"
    },
    {
     "data": {
      "text/markdown": [
       "<span style=\"color:#33cc33\">Correct:</span> \n",
       "\n",
       "Remember that `return` causes a function to exit immediately. So our original implementation always ran for just one iteration. We can only return `False` if we've looked at every element of the list (and confirmed that none of them are lucky). Though we can return early if the answer is `True`:\n",
       "\n",
       "```python\n",
       "def has_lucky_number(nums):\n",
       "    for num in nums:\n",
       "        if num % 7 == 0:\n",
       "            return True\n",
       "    # We've exhausted the list without finding a lucky number\n",
       "    return False\n",
       "```\n",
       "\n",
       "Here's a one-line version using a list comprehension with Python's `any` function (you can read about what it does by calling `help(any)`):\n",
       "\n",
       "```python\n",
       "def has_lucky_number(nums):\n",
       "    return any([num % 7 == 0 for num in nums])\n",
       "```\n"
      ],
      "text/plain": [
       "Correct: \n",
       "\n",
       "Remember that `return` causes a function to exit immediately. So our original implementation always ran for just one iteration. We can only return `False` if we've looked at every element of the list (and confirmed that none of them are lucky). Though we can return early if the answer is `True`:\n",
       "\n",
       "```python\n",
       "def has_lucky_number(nums):\n",
       "    for num in nums:\n",
       "        if num % 7 == 0:\n",
       "            return True\n",
       "    # We've exhausted the list without finding a lucky number\n",
       "    return False\n",
       "```\n",
       "\n",
       "Here's a one-line version using a list comprehension with Python's `any` function (you can read about what it does by calling `help(any)`):\n",
       "\n",
       "```python\n",
       "def has_lucky_number(nums):\n",
       "    return any([num % 7 == 0 for num in nums])\n",
       "```"
      ]
     },
     "metadata": {},
     "output_type": "display_data"
    }
   ],
   "source": [
    "def has_lucky_number(nums):\n",
    "    \"\"\"Return whether the given list of numbers is lucky. A lucky list contains\n",
    "    at least one number divisible by 7.\n",
    "    \"\"\"\n",
    "    for num in nums:\n",
    "        if num % 7 == 0:\n",
    "            return True\n",
    "    return False\n",
    "\n",
    "\n",
    "# Check your answer\n",
    "q1.check()"
   ]
  },
  {
   "cell_type": "code",
   "execution_count": 4,
   "id": "853882f9",
   "metadata": {
    "execution": {
     "iopub.execute_input": "2023-05-15T18:52:28.269566Z",
     "iopub.status.busy": "2023-05-15T18:52:28.268152Z",
     "iopub.status.idle": "2023-05-15T18:52:28.275526Z",
     "shell.execute_reply": "2023-05-15T18:52:28.273502Z"
    },
    "papermill": {
     "duration": 0.019593,
     "end_time": "2023-05-15T18:52:28.278809",
     "exception": false,
     "start_time": "2023-05-15T18:52:28.259216",
     "status": "completed"
    },
    "tags": []
   },
   "outputs": [],
   "source": [
    "#q1.hint()\n",
    "#q1.solution()"
   ]
  },
  {
   "cell_type": "markdown",
   "id": "444b592b",
   "metadata": {
    "papermill": {
     "duration": 0.00744,
     "end_time": "2023-05-15T18:52:28.296136",
     "exception": false,
     "start_time": "2023-05-15T18:52:28.288696",
     "status": "completed"
    },
    "tags": []
   },
   "source": [
    "# 2.\n",
    "Look at the Python expression below. What do you think we'll get when we run it? When you've made your prediction, uncomment the code and run the cell to see if you were right."
   ]
  },
  {
   "cell_type": "code",
   "execution_count": 5,
   "id": "201b8ec9",
   "metadata": {
    "execution": {
     "iopub.execute_input": "2023-05-15T18:52:28.315929Z",
     "iopub.status.busy": "2023-05-15T18:52:28.314751Z",
     "iopub.status.idle": "2023-05-15T18:52:28.320222Z",
     "shell.execute_reply": "2023-05-15T18:52:28.318767Z"
    },
    "papermill": {
     "duration": 0.019099,
     "end_time": "2023-05-15T18:52:28.323298",
     "exception": false,
     "start_time": "2023-05-15T18:52:28.304199",
     "status": "completed"
    },
    "tags": []
   },
   "outputs": [],
   "source": [
    "#[1, 2, 3, 4] > 2"
   ]
  },
  {
   "cell_type": "markdown",
   "id": "59434dd4",
   "metadata": {
    "papermill": {
     "duration": 0.007465,
     "end_time": "2023-05-15T18:52:28.340158",
     "exception": false,
     "start_time": "2023-05-15T18:52:28.332693",
     "status": "completed"
    },
    "tags": []
   },
   "source": [
    "R and Python have some libraries (like numpy and pandas) compare each element of the list to 2 (i.e. do an 'element-wise' comparison) and give us a list of booleans like `[False, False, True, True]`. \n",
    "\n",
    "Implement a function that reproduces this behaviour, returning a list of booleans corresponding to whether the corresponding element is greater than n."
   ]
  },
  {
   "cell_type": "code",
   "execution_count": 6,
   "id": "6bf157e0",
   "metadata": {
    "execution": {
     "iopub.execute_input": "2023-05-15T18:52:28.359229Z",
     "iopub.status.busy": "2023-05-15T18:52:28.358177Z",
     "iopub.status.idle": "2023-05-15T18:52:28.369872Z",
     "shell.execute_reply": "2023-05-15T18:52:28.368656Z"
    },
    "papermill": {
     "duration": 0.024224,
     "end_time": "2023-05-15T18:52:28.372619",
     "exception": false,
     "start_time": "2023-05-15T18:52:28.348395",
     "status": "completed"
    },
    "tags": []
   },
   "outputs": [
    {
     "data": {
      "application/javascript": [
       "parent.postMessage({\"jupyterEvent\": \"custom.exercise_interaction\", \"data\": {\"outcomeType\": 1, \"valueTowardsCompletion\": 0.25, \"interactionType\": 1, \"questionType\": 2, \"questionId\": \"2_ElementWiseComparison\", \"learnToolsVersion\": \"0.3.4\", \"failureMessage\": \"\", \"exceptionClass\": \"\", \"trace\": \"\"}}, \"*\")"
      ],
      "text/plain": [
       "<IPython.core.display.Javascript object>"
      ]
     },
     "metadata": {},
     "output_type": "display_data"
    },
    {
     "data": {
      "text/markdown": [
       "<span style=\"color:#33cc33\">Correct:</span> \n",
       "\n",
       "Here's one solution:\n",
       "```python\n",
       "def elementwise_greater_than(L, thresh):\n",
       "    res = []\n",
       "    for ele in L:\n",
       "        res.append(ele > thresh)\n",
       "    return res\n",
       "```\n",
       "\n",
       "And here's the list comprehension version:\n",
       "```python\n",
       "def elementwise_greater_than(L, thresh):\n",
       "    return [ele > thresh for ele in L]\n",
       "```\n"
      ],
      "text/plain": [
       "Correct: \n",
       "\n",
       "Here's one solution:\n",
       "```python\n",
       "def elementwise_greater_than(L, thresh):\n",
       "    res = []\n",
       "    for ele in L:\n",
       "        res.append(ele > thresh)\n",
       "    return res\n",
       "```\n",
       "\n",
       "And here's the list comprehension version:\n",
       "```python\n",
       "def elementwise_greater_than(L, thresh):\n",
       "    return [ele > thresh for ele in L]\n",
       "```"
      ]
     },
     "metadata": {},
     "output_type": "display_data"
    }
   ],
   "source": [
    "def elementwise_greater_than(L, thresh):\n",
    "    \"\"\"Return a list with the same length as L, where the value at index i is \n",
    "    True if L[i] is greater than thresh, and False otherwise.\n",
    "    \"\"\"\n",
    "    result = []\n",
    "    for item in L:\n",
    "        result.append(item > thresh)\n",
    "    return result\n",
    "\n",
    "\n",
    "# Check your answer\n",
    "q2.check()"
   ]
  },
  {
   "cell_type": "code",
   "execution_count": 7,
   "id": "13f0001b",
   "metadata": {
    "execution": {
     "iopub.execute_input": "2023-05-15T18:52:28.392539Z",
     "iopub.status.busy": "2023-05-15T18:52:28.391751Z",
     "iopub.status.idle": "2023-05-15T18:52:28.397202Z",
     "shell.execute_reply": "2023-05-15T18:52:28.395747Z"
    },
    "papermill": {
     "duration": 0.018499,
     "end_time": "2023-05-15T18:52:28.399840",
     "exception": false,
     "start_time": "2023-05-15T18:52:28.381341",
     "status": "completed"
    },
    "tags": []
   },
   "outputs": [],
   "source": [
    "#q2.solution()"
   ]
  },
  {
   "cell_type": "markdown",
   "id": "2a53e921",
   "metadata": {
    "papermill": {
     "duration": 0.007878,
     "end_time": "2023-05-15T18:52:28.415850",
     "exception": false,
     "start_time": "2023-05-15T18:52:28.407972",
     "status": "completed"
    },
    "tags": []
   },
   "source": [
    "# 3.\n",
    "\n",
    "Complete the body of the function below according to its docstring."
   ]
  },
  {
   "cell_type": "code",
   "execution_count": 8,
   "id": "03a3d235",
   "metadata": {
    "execution": {
     "iopub.execute_input": "2023-05-15T18:52:28.435195Z",
     "iopub.status.busy": "2023-05-15T18:52:28.434330Z",
     "iopub.status.idle": "2023-05-15T18:52:28.446797Z",
     "shell.execute_reply": "2023-05-15T18:52:28.445407Z"
    },
    "papermill": {
     "duration": 0.025493,
     "end_time": "2023-05-15T18:52:28.449300",
     "exception": false,
     "start_time": "2023-05-15T18:52:28.423807",
     "status": "completed"
    },
    "tags": []
   },
   "outputs": [
    {
     "data": {
      "application/javascript": [
       "parent.postMessage({\"jupyterEvent\": \"custom.exercise_interaction\", \"data\": {\"outcomeType\": 1, \"valueTowardsCompletion\": 0.25, \"interactionType\": 1, \"questionType\": 2, \"questionId\": \"3_BoringMenu\", \"learnToolsVersion\": \"0.3.4\", \"failureMessage\": \"\", \"exceptionClass\": \"\", \"trace\": \"\"}}, \"*\")"
      ],
      "text/plain": [
       "<IPython.core.display.Javascript object>"
      ]
     },
     "metadata": {},
     "output_type": "display_data"
    },
    {
     "data": {
      "text/markdown": [
       "<span style=\"color:#33cc33\">Correct:</span> \n",
       "\n",
       "\n",
       "\n",
       "```python\n",
       "def menu_is_boring(meals):\n",
       "    # Iterate over all indices of the list, except the last one\n",
       "    for i in range(len(meals)-1):\n",
       "        if meals[i] == meals[i+1]:\n",
       "            return True\n",
       "    return False\n",
       "```\n",
       "\n",
       "The key to our solution is the call to `range`. `range(len(meals))` would give us all the indices of `meals`. If we had used that range, the last iteration of the loop would be comparing the last element to the element after it, which is... `IndexError`! `range(len(meals)-1)` gives us all the indices except the index of the last element.\n",
       "\n",
       "But don't we need to check if `meals` is empty? Turns out that `range(0) == range(-1)` - they're both empty. So if `meals` has length 0 or 1, we just won't do any iterations of our for loop.\n"
      ],
      "text/plain": [
       "Correct: \n",
       "\n",
       "\n",
       "\n",
       "```python\n",
       "def menu_is_boring(meals):\n",
       "    # Iterate over all indices of the list, except the last one\n",
       "    for i in range(len(meals)-1):\n",
       "        if meals[i] == meals[i+1]:\n",
       "            return True\n",
       "    return False\n",
       "```\n",
       "\n",
       "The key to our solution is the call to `range`. `range(len(meals))` would give us all the indices of `meals`. If we had used that range, the last iteration of the loop would be comparing the last element to the element after it, which is... `IndexError`! `range(len(meals)-1)` gives us all the indices except the index of the last element.\n",
       "\n",
       "But don't we need to check if `meals` is empty? Turns out that `range(0) == range(-1)` - they're both empty. So if `meals` has length 0 or 1, we just won't do any iterations of our for loop."
      ]
     },
     "metadata": {},
     "output_type": "display_data"
    }
   ],
   "source": [
    "def menu_is_boring(meals):\n",
    "    \"\"\"Given a list of meals served over some period of time, return True if the\n",
    "    same meal has ever been served two days in a row, and False otherwise.\n",
    "    \"\"\"\n",
    "    for i in range(1, len(meals)):\n",
    "        if meals[i] == meals[i-1]:\n",
    "            return True\n",
    "    return False\n",
    "\n",
    "# Check your answer\n",
    "q3.check()"
   ]
  },
  {
   "cell_type": "code",
   "execution_count": 9,
   "id": "305458ce",
   "metadata": {
    "execution": {
     "iopub.execute_input": "2023-05-15T18:52:28.469680Z",
     "iopub.status.busy": "2023-05-15T18:52:28.468244Z",
     "iopub.status.idle": "2023-05-15T18:52:28.474077Z",
     "shell.execute_reply": "2023-05-15T18:52:28.472608Z"
    },
    "papermill": {
     "duration": 0.018051,
     "end_time": "2023-05-15T18:52:28.476493",
     "exception": false,
     "start_time": "2023-05-15T18:52:28.458442",
     "status": "completed"
    },
    "tags": []
   },
   "outputs": [],
   "source": [
    "#q3.hint()\n",
    "#q3.solution()"
   ]
  },
  {
   "cell_type": "markdown",
   "id": "3182949e",
   "metadata": {
    "papermill": {
     "duration": 0.008528,
     "end_time": "2023-05-15T18:52:28.493983",
     "exception": false,
     "start_time": "2023-05-15T18:52:28.485455",
     "status": "completed"
    },
    "tags": []
   },
   "source": [
    "# 4. <span title=\"A bit spicy\" style=\"color: darkgreen \">🌶️</span>\n",
    "\n",
    "Next to the Blackjack table, the Python Challenge Casino has a slot machine. You can get a result from the slot machine by calling `play_slot_machine()`. The number it returns is your winnings in dollars. Usually it returns 0.  But sometimes you'll get lucky and get a big payday. Try running it below:"
   ]
  },
  {
   "cell_type": "code",
   "execution_count": 10,
   "id": "1ba42282",
   "metadata": {
    "execution": {
     "iopub.execute_input": "2023-05-15T18:52:28.514381Z",
     "iopub.status.busy": "2023-05-15T18:52:28.513350Z",
     "iopub.status.idle": "2023-05-15T18:52:28.520401Z",
     "shell.execute_reply": "2023-05-15T18:52:28.519246Z"
    },
    "papermill": {
     "duration": 0.020277,
     "end_time": "2023-05-15T18:52:28.523084",
     "exception": false,
     "start_time": "2023-05-15T18:52:28.502807",
     "status": "completed"
    },
    "tags": []
   },
   "outputs": [
    {
     "data": {
      "text/plain": [
       "0"
      ]
     },
     "execution_count": 10,
     "metadata": {},
     "output_type": "execute_result"
    }
   ],
   "source": [
    "play_slot_machine()"
   ]
  },
  {
   "cell_type": "markdown",
   "id": "6721f061",
   "metadata": {
    "papermill": {
     "duration": 0.008366,
     "end_time": "2023-05-15T18:52:28.540504",
     "exception": false,
     "start_time": "2023-05-15T18:52:28.532138",
     "status": "completed"
    },
    "tags": []
   },
   "source": [
    "By the way, did we mention that each play costs $1? Don't worry, we'll send you the bill later.\n",
    "\n",
    "On average, how much money can you expect to gain (or lose) every time you play the machine?  The casino keeps it a secret, but you can estimate the average value of each pull using a technique called the **Monte Carlo method**. To estimate the average outcome, we simulate the scenario many times, and return the average result.\n",
    "\n",
    "Complete the following function to calculate the average value per play of the slot machine."
   ]
  },
  {
   "cell_type": "code",
   "execution_count": 11,
   "id": "80ec9d59",
   "metadata": {
    "execution": {
     "iopub.execute_input": "2023-05-15T18:52:28.560094Z",
     "iopub.status.busy": "2023-05-15T18:52:28.559686Z",
     "iopub.status.idle": "2023-05-15T18:52:28.565854Z",
     "shell.execute_reply": "2023-05-15T18:52:28.564692Z"
    },
    "papermill": {
     "duration": 0.019777,
     "end_time": "2023-05-15T18:52:28.569059",
     "exception": false,
     "start_time": "2023-05-15T18:52:28.549282",
     "status": "completed"
    },
    "tags": []
   },
   "outputs": [],
   "source": [
    "def estimate_average_slot_payout(n_runs):\n",
    "    # Play slot machine n_runs times, calculate payout of each\n",
    "    payouts = [play_slot_machine()-1 for i in range(n_runs)]\n",
    "    # Calculate the average value\n",
    "    avg_payout = sum(payouts) / n_runs\n",
    "    return avg_payout\n"
   ]
  },
  {
   "cell_type": "markdown",
   "id": "b1572236",
   "metadata": {
    "papermill": {
     "duration": 0.008853,
     "end_time": "2023-05-15T18:52:28.586570",
     "exception": false,
     "start_time": "2023-05-15T18:52:28.577717",
     "status": "completed"
    },
    "tags": []
   },
   "source": [
    "When you think you know the expected value per spin, run the code cell below to view the solution and get credit for answering the question."
   ]
  },
  {
   "cell_type": "code",
   "execution_count": 12,
   "id": "275a84a1",
   "metadata": {
    "execution": {
     "iopub.execute_input": "2023-05-15T18:52:28.606504Z",
     "iopub.status.busy": "2023-05-15T18:52:28.605880Z",
     "iopub.status.idle": "2023-05-15T18:52:28.614977Z",
     "shell.execute_reply": "2023-05-15T18:52:28.613743Z"
    },
    "papermill": {
     "duration": 0.022851,
     "end_time": "2023-05-15T18:52:28.618272",
     "exception": false,
     "start_time": "2023-05-15T18:52:28.595421",
     "status": "completed"
    },
    "tags": []
   },
   "outputs": [
    {
     "data": {
      "application/javascript": [
       "parent.postMessage({\"jupyterEvent\": \"custom.exercise_interaction\", \"data\": {\"interactionType\": 3, \"questionType\": 4, \"questionId\": \"4_ExpectedSlotsPayout\", \"learnToolsVersion\": \"0.3.4\", \"valueTowardsCompletion\": 0.0, \"failureMessage\": \"\", \"exceptionClass\": \"\", \"trace\": \"\", \"outcomeType\": 4}}, \"*\")"
      ],
      "text/plain": [
       "<IPython.core.display.Javascript object>"
      ]
     },
     "metadata": {},
     "output_type": "display_data"
    },
    {
     "data": {
      "text/markdown": [
       "<span style=\"color:#33cc99\">Solution:</span> \n",
       "    \n",
       "The exact expected value of one pull of the slot machine is 0.025 - i.e. a little more than 2 cents.  See?  Not every game in the Python Challenge Casino is rigged against the player!\n",
       "\n",
       "In order to get this answer, you'll need to implement the `estimate_average_slot_payout(n_runs)` function to simulate pulling the slot machine `n_runs` times.  It should return the payout averaged over those `n_runs`.\n",
       "\n",
       "Then, once the function is defined, in order to estimate the average slot payout, we need only call the function.\n",
       "\n",
       "Because of the high variance of the outcome (there are some very rare high payout results that significantly affect the average) you might need to run your function with a very high value of `n_runs` to get a stable answer close to the true expectation.  For instance, you might use a value for `n_runs` of 1000000.\n",
       "\n",
       "Here's an example for how the function could look:\n",
       "```python\n",
       "def estimate_average_slot_payout(n_runs):\n",
       "    # Play slot machine n_runs times, calculate payout of each\n",
       "    payouts = [play_slot_machine()-1 for i in range(n_runs)]\n",
       "    # Calculate the average value\n",
       "    avg_payout = sum(payouts) / n_runs\n",
       "    return avg_payout\n",
       "    \n",
       "estimate_average_slot_payout(10000000)\n",
       "\n",
       "```\n",
       "\n",
       "This should return an answer close to 0.025!\n",
       "            \n"
      ],
      "text/plain": [
       "Solution: \n",
       "    \n",
       "The exact expected value of one pull of the slot machine is 0.025 - i.e. a little more than 2 cents.  See?  Not every game in the Python Challenge Casino is rigged against the player!\n",
       "\n",
       "In order to get this answer, you'll need to implement the `estimate_average_slot_payout(n_runs)` function to simulate pulling the slot machine `n_runs` times.  It should return the payout averaged over those `n_runs`.\n",
       "\n",
       "Then, once the function is defined, in order to estimate the average slot payout, we need only call the function.\n",
       "\n",
       "Because of the high variance of the outcome (there are some very rare high payout results that significantly affect the average) you might need to run your function with a very high value of `n_runs` to get a stable answer close to the true expectation.  For instance, you might use a value for `n_runs` of 1000000.\n",
       "\n",
       "Here's an example for how the function could look:\n",
       "```python\n",
       "def estimate_average_slot_payout(n_runs):\n",
       "    # Play slot machine n_runs times, calculate payout of each\n",
       "    payouts = [play_slot_machine()-1 for i in range(n_runs)]\n",
       "    # Calculate the average value\n",
       "    avg_payout = sum(payouts) / n_runs\n",
       "    return avg_payout\n",
       "    \n",
       "estimate_average_slot_payout(10000000)\n",
       "\n",
       "```\n",
       "\n",
       "This should return an answer close to 0.025!\n",
       "            "
      ]
     },
     "metadata": {},
     "output_type": "display_data"
    }
   ],
   "source": [
    "# Check your answer (Run this code cell to receive credit!)\n",
    "q4.solution()"
   ]
  },
  {
   "cell_type": "markdown",
   "id": "274c66ef",
   "metadata": {
    "papermill": {
     "duration": 0.009363,
     "end_time": "2023-05-15T18:52:28.636712",
     "exception": false,
     "start_time": "2023-05-15T18:52:28.627349",
     "status": "completed"
    },
    "tags": []
   },
   "source": [
    "# Keep Going\n",
    "\n",
    "Many programmers report that dictionaries are their favorite data structure. You'll get to **[learn about them](https://www.kaggle.com/colinmorris/strings-and-dictionaries)** (as well as strings) in the next lesson."
   ]
  },
  {
   "cell_type": "markdown",
   "id": "c59f177b",
   "metadata": {
    "papermill": {
     "duration": 0.00872,
     "end_time": "2023-05-15T18:52:28.654606",
     "exception": false,
     "start_time": "2023-05-15T18:52:28.645886",
     "status": "completed"
    },
    "tags": []
   },
   "source": [
    "---\n",
    "\n",
    "\n",
    "\n",
    "\n",
    "*Have questions or comments? Visit the [course discussion forum](https://www.kaggle.com/learn/python/discussion) to chat with other learners.*"
   ]
  }
 ],
 "metadata": {
  "kernelspec": {
   "display_name": "Python 3",
   "language": "python",
   "name": "python3"
  },
  "language_info": {
   "codemirror_mode": {
    "name": "ipython",
    "version": 3
   },
   "file_extension": ".py",
   "mimetype": "text/x-python",
   "name": "python",
   "nbconvert_exporter": "python",
   "pygments_lexer": "ipython3",
   "version": "3.10.10"
  },
  "papermill": {
   "default_parameters": {},
   "duration": 15.623705,
   "end_time": "2023-05-15T18:52:29.586705",
   "environment_variables": {},
   "exception": null,
   "input_path": "__notebook__.ipynb",
   "output_path": "__notebook__.ipynb",
   "parameters": {},
   "start_time": "2023-05-15T18:52:13.963000",
   "version": "2.4.0"
  }
 },
 "nbformat": 4,
 "nbformat_minor": 5
}
