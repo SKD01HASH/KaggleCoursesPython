{
 "cells": [
  {
   "cell_type": "markdown",
   "id": "8f1877ef",
   "metadata": {
    "papermill": {
     "duration": 0.007368,
     "end_time": "2023-05-15T16:22:40.270354",
     "exception": false,
     "start_time": "2023-05-15T16:22:40.262986",
     "status": "completed"
    },
    "tags": []
   },
   "source": [
    "**This notebook is an exercise in the [Python](https://www.kaggle.com/learn/python) course.  You can reference the tutorial at [this link](https://www.kaggle.com/colinmorris/booleans-and-conditionals).**\n",
    "\n",
    "---\n"
   ]
  },
  {
   "cell_type": "markdown",
   "id": "aa8e550e",
   "metadata": {
    "papermill": {
     "duration": 0.006737,
     "end_time": "2023-05-15T16:22:40.284089",
     "exception": false,
     "start_time": "2023-05-15T16:22:40.277352",
     "status": "completed"
    },
    "tags": []
   },
   "source": [
    "In this exercise, you'll put to work what you have learned about booleans and conditionals.\n",
    "\n",
    "To get started, **run the setup code below** before writing your own code (and if you leave this notebook and come back later, don't forget to run the setup code again)."
   ]
  },
  {
   "cell_type": "code",
   "execution_count": 1,
   "id": "c3547b50",
   "metadata": {
    "execution": {
     "iopub.execute_input": "2023-05-15T16:22:40.299880Z",
     "iopub.status.busy": "2023-05-15T16:22:40.299361Z",
     "iopub.status.idle": "2023-05-15T16:22:40.347621Z",
     "shell.execute_reply": "2023-05-15T16:22:40.346822Z"
    },
    "papermill": {
     "duration": 0.058698,
     "end_time": "2023-05-15T16:22:40.349900",
     "exception": false,
     "start_time": "2023-05-15T16:22:40.291202",
     "status": "completed"
    },
    "tags": []
   },
   "outputs": [
    {
     "name": "stdout",
     "output_type": "stream",
     "text": [
      "Setup complete.\n"
     ]
    }
   ],
   "source": [
    "from learntools.core import binder; binder.bind(globals())\n",
    "from learntools.python.ex3 import *\n",
    "print('Setup complete.')"
   ]
  },
  {
   "cell_type": "markdown",
   "id": "a3de7a09",
   "metadata": {
    "papermill": {
     "duration": 0.006463,
     "end_time": "2023-05-15T16:22:40.363439",
     "exception": false,
     "start_time": "2023-05-15T16:22:40.356976",
     "status": "completed"
    },
    "tags": []
   },
   "source": [
    "# 1.\n",
    "\n",
    "Many programming languages have [`sign`](https://en.wikipedia.org/wiki/Sign_function) available as a built-in function. Python doesn't, but we can define our own!\n",
    "\n",
    "In the cell below, define a function called `sign` which takes a numerical argument and returns -1 if it's negative, 1 if it's positive, and 0 if it's 0."
   ]
  },
  {
   "cell_type": "code",
   "execution_count": 2,
   "id": "a706e392",
   "metadata": {
    "execution": {
     "iopub.execute_input": "2023-05-15T16:22:40.378486Z",
     "iopub.status.busy": "2023-05-15T16:22:40.378150Z",
     "iopub.status.idle": "2023-05-15T16:22:40.387591Z",
     "shell.execute_reply": "2023-05-15T16:22:40.386451Z"
    },
    "papermill": {
     "duration": 0.019283,
     "end_time": "2023-05-15T16:22:40.389532",
     "exception": false,
     "start_time": "2023-05-15T16:22:40.370249",
     "status": "completed"
    },
    "tags": []
   },
   "outputs": [
    {
     "data": {
      "application/javascript": [
       "parent.postMessage({\"jupyterEvent\": \"custom.exercise_interaction\", \"data\": {\"outcomeType\": 1, \"valueTowardsCompletion\": 0.2, \"interactionType\": 1, \"questionType\": 2, \"questionId\": \"1_SignFunctionProblem\", \"learnToolsVersion\": \"0.3.4\", \"failureMessage\": \"\", \"exceptionClass\": \"\", \"trace\": \"\"}}, \"*\")"
      ],
      "text/plain": [
       "<IPython.core.display.Javascript object>"
      ]
     },
     "metadata": {},
     "output_type": "display_data"
    },
    {
     "data": {
      "text/markdown": [
       "<span style=\"color:#33cc33\">Correct</span>"
      ],
      "text/plain": [
       "Correct"
      ]
     },
     "metadata": {},
     "output_type": "display_data"
    }
   ],
   "source": [
    "def sign(number):\n",
    "    \"\"\"Return the sign of the given number: -1 if negative, 1 if positive, and 0 if zero.\"\"\"\n",
    "    if number < 0:\n",
    "        return -1\n",
    "    elif number > 0:\n",
    "        return 1\n",
    "    else:\n",
    "        return 0\n",
    "\n",
    "\n",
    "# Check your answer\n",
    "q1.check()"
   ]
  },
  {
   "cell_type": "code",
   "execution_count": 3,
   "id": "9b72dd0f",
   "metadata": {
    "execution": {
     "iopub.execute_input": "2023-05-15T16:22:40.405576Z",
     "iopub.status.busy": "2023-05-15T16:22:40.405279Z",
     "iopub.status.idle": "2023-05-15T16:22:40.409508Z",
     "shell.execute_reply": "2023-05-15T16:22:40.408133Z"
    },
    "papermill": {
     "duration": 0.015032,
     "end_time": "2023-05-15T16:22:40.411924",
     "exception": false,
     "start_time": "2023-05-15T16:22:40.396892",
     "status": "completed"
    },
    "tags": []
   },
   "outputs": [],
   "source": [
    "#q1.solution()"
   ]
  },
  {
   "cell_type": "markdown",
   "id": "d5f249ab",
   "metadata": {
    "papermill": {
     "duration": 0.00716,
     "end_time": "2023-05-15T16:22:40.426438",
     "exception": false,
     "start_time": "2023-05-15T16:22:40.419278",
     "status": "completed"
    },
    "tags": []
   },
   "source": [
    "# 2.\n",
    "\n",
    "We've decided to add \"logging\" to our `to_smash` function from the previous exercise."
   ]
  },
  {
   "cell_type": "code",
   "execution_count": 4,
   "id": "90451df7",
   "metadata": {
    "execution": {
     "iopub.execute_input": "2023-05-15T16:22:40.443808Z",
     "iopub.status.busy": "2023-05-15T16:22:40.443282Z",
     "iopub.status.idle": "2023-05-15T16:22:40.452098Z",
     "shell.execute_reply": "2023-05-15T16:22:40.450646Z"
    },
    "papermill": {
     "duration": 0.019899,
     "end_time": "2023-05-15T16:22:40.454398",
     "exception": false,
     "start_time": "2023-05-15T16:22:40.434499",
     "status": "completed"
    },
    "tags": []
   },
   "outputs": [
    {
     "name": "stdout",
     "output_type": "stream",
     "text": [
      "Splitting 91 candies\n"
     ]
    },
    {
     "data": {
      "text/plain": [
       "1"
      ]
     },
     "execution_count": 4,
     "metadata": {},
     "output_type": "execute_result"
    }
   ],
   "source": [
    "def to_smash(total_candies):\n",
    "    \"\"\"Return the number of leftover candies that must be smashed after distributing\n",
    "    the given number of candies evenly between 3 friends.\n",
    "    \n",
    "    >>> to_smash(91)\n",
    "    1\n",
    "    \"\"\"\n",
    "    print(\"Splitting\", total_candies, \"candies\")\n",
    "    return total_candies % 3\n",
    "\n",
    "to_smash(91)"
   ]
  },
  {
   "cell_type": "markdown",
   "id": "ad27a715",
   "metadata": {
    "papermill": {
     "duration": 0.008893,
     "end_time": "2023-05-15T16:22:40.471263",
     "exception": false,
     "start_time": "2023-05-15T16:22:40.462370",
     "status": "completed"
    },
    "tags": []
   },
   "source": [
    "What happens if we call it with `total_candies = 1`?"
   ]
  },
  {
   "cell_type": "code",
   "execution_count": 5,
   "id": "fef3a2bd",
   "metadata": {
    "execution": {
     "iopub.execute_input": "2023-05-15T16:22:40.491438Z",
     "iopub.status.busy": "2023-05-15T16:22:40.491127Z",
     "iopub.status.idle": "2023-05-15T16:22:40.496831Z",
     "shell.execute_reply": "2023-05-15T16:22:40.495611Z"
    },
    "papermill": {
     "duration": 0.0192,
     "end_time": "2023-05-15T16:22:40.499594",
     "exception": false,
     "start_time": "2023-05-15T16:22:40.480394",
     "status": "completed"
    },
    "tags": []
   },
   "outputs": [
    {
     "name": "stdout",
     "output_type": "stream",
     "text": [
      "Splitting 1 candies\n"
     ]
    },
    {
     "data": {
      "text/plain": [
       "1"
      ]
     },
     "execution_count": 5,
     "metadata": {},
     "output_type": "execute_result"
    }
   ],
   "source": [
    "to_smash(1)"
   ]
  },
  {
   "cell_type": "markdown",
   "id": "8701509b",
   "metadata": {
    "papermill": {
     "duration": 0.006919,
     "end_time": "2023-05-15T16:22:40.515553",
     "exception": false,
     "start_time": "2023-05-15T16:22:40.508634",
     "status": "completed"
    },
    "tags": []
   },
   "source": [
    "That isn't great grammar!\n",
    "\n",
    "Modify the definition in the cell below to correct the grammar of our print statement. (If there's only one candy, we should use the singular \"candy\" instead of the plural \"candies\")"
   ]
  },
  {
   "cell_type": "code",
   "execution_count": 6,
   "id": "e579b91b",
   "metadata": {
    "execution": {
     "iopub.execute_input": "2023-05-15T16:22:40.531039Z",
     "iopub.status.busy": "2023-05-15T16:22:40.530765Z",
     "iopub.status.idle": "2023-05-15T16:22:40.536413Z",
     "shell.execute_reply": "2023-05-15T16:22:40.535707Z"
    },
    "papermill": {
     "duration": 0.015346,
     "end_time": "2023-05-15T16:22:40.537845",
     "exception": false,
     "start_time": "2023-05-15T16:22:40.522499",
     "status": "completed"
    },
    "tags": []
   },
   "outputs": [
    {
     "name": "stdout",
     "output_type": "stream",
     "text": [
      "Splitting 91 candies\n",
      "Splitting 1 candies\n"
     ]
    },
    {
     "data": {
      "text/plain": [
       "1"
      ]
     },
     "execution_count": 6,
     "metadata": {},
     "output_type": "execute_result"
    }
   ],
   "source": [
    "def to_smash(total_candies):\n",
    "    \"\"\"Return the number of leftover candies that must be smashed after distributing\n",
    "    the given number of candies evenly between 3 friends.\n",
    "    \n",
    "    >>> to_smash(91)\n",
    "    1\n",
    "    \"\"\"\n",
    "    print(\"Splitting\", total_candies, \"candies\")\n",
    "    return total_candies % 3\n",
    "\n",
    "to_smash(91)\n",
    "to_smash(1)"
   ]
  },
  {
   "cell_type": "markdown",
   "id": "36768a4a",
   "metadata": {
    "papermill": {
     "duration": 0.007315,
     "end_time": "2023-05-15T16:22:40.552596",
     "exception": false,
     "start_time": "2023-05-15T16:22:40.545281",
     "status": "completed"
    },
    "tags": []
   },
   "source": [
    "To get credit for completing this problem, and to see the official answer, run the code cell below."
   ]
  },
  {
   "cell_type": "code",
   "execution_count": 7,
   "id": "b24cf07e",
   "metadata": {
    "execution": {
     "iopub.execute_input": "2023-05-15T16:22:40.568952Z",
     "iopub.status.busy": "2023-05-15T16:22:40.568472Z",
     "iopub.status.idle": "2023-05-15T16:22:40.576628Z",
     "shell.execute_reply": "2023-05-15T16:22:40.575991Z"
    },
    "papermill": {
     "duration": 0.01864,
     "end_time": "2023-05-15T16:22:40.578588",
     "exception": false,
     "start_time": "2023-05-15T16:22:40.559948",
     "status": "completed"
    },
    "tags": []
   },
   "outputs": [
    {
     "data": {
      "application/javascript": [
       "parent.postMessage({\"jupyterEvent\": \"custom.exercise_interaction\", \"data\": {\"interactionType\": 3, \"questionType\": 4, \"questionId\": \"2_PluralizationProblem\", \"learnToolsVersion\": \"0.3.4\", \"valueTowardsCompletion\": 0.0, \"failureMessage\": \"\", \"exceptionClass\": \"\", \"trace\": \"\", \"outcomeType\": 4}}, \"*\")"
      ],
      "text/plain": [
       "<IPython.core.display.Javascript object>"
      ]
     },
     "metadata": {},
     "output_type": "display_data"
    },
    {
     "data": {
      "text/markdown": [
       "<span style=\"color:#33cc99\">Solution:</span> A straightforward (and totally fine) solution is to replace the original `print` call with:\n",
       "\n",
       "```python\n",
       "if total_candies == 1:\n",
       "    print(\"Splitting 1 candy\")\n",
       "else:\n",
       "    print(\"Splitting\", total_candies, \"candies\")\n",
       "```\n",
       "\n",
       "Here's a slightly more succinct solution using a conditional expression:\n",
       "\n",
       "```python\n",
       "print(\"Splitting\", total_candies, \"candy\" if total_candies == 1 else \"candies\")\n",
       "```"
      ],
      "text/plain": [
       "Solution: A straightforward (and totally fine) solution is to replace the original `print` call with:\n",
       "\n",
       "```python\n",
       "if total_candies == 1:\n",
       "    print(\"Splitting 1 candy\")\n",
       "else:\n",
       "    print(\"Splitting\", total_candies, \"candies\")\n",
       "```\n",
       "\n",
       "Here's a slightly more succinct solution using a conditional expression:\n",
       "\n",
       "```python\n",
       "print(\"Splitting\", total_candies, \"candy\" if total_candies == 1 else \"candies\")\n",
       "```"
      ]
     },
     "metadata": {},
     "output_type": "display_data"
    }
   ],
   "source": [
    "# Check your answer (Run this code cell to receive credit!)\n",
    "q2.solution()"
   ]
  },
  {
   "cell_type": "markdown",
   "id": "cb836d04",
   "metadata": {
    "papermill": {
     "duration": 0.009377,
     "end_time": "2023-05-15T16:22:40.596960",
     "exception": false,
     "start_time": "2023-05-15T16:22:40.587583",
     "status": "completed"
    },
    "tags": []
   },
   "source": [
    "def prepared_for_weather(have_umbrella, rain_level, have_hood, is_workday):\n",
    "    return have_umbrella or rain_level < 5 and have_hood or not rain_level > 0 and is_workday\n",
    "\n",
    "have_umbrella = True\n",
    "rain_level = 0.0\n",
    "have_hood = True\n",
    "is_workday = True\n",
    "\n",
    "actual = prepared_for_weather(have_umbrella, rain_level, have_hood, is_workday)\n",
    "print(actual)\n",
    "# 3. <span title=\"A bit spicy\" style=\"color: darkgreen \">🌶️</span>\n",
    "\n",
    "In the tutorial, we talked about deciding whether we're prepared for the weather. I said that I'm safe from today's weather if...\n",
    "- I have an umbrella...\n",
    "- or if the rain isn't too heavy and I have a hood...\n",
    "- otherwise, I'm still fine unless it's raining *and* it's a workday\n",
    "\n",
    "The function below uses our first attempt at turning this logic into a Python expression. I claimed that there was a bug in that code. Can you find it?\n",
    "\n",
    "To prove that `prepared_for_weather` is buggy, come up with a set of inputs where either:\n",
    "- the function returns `False` (but should have returned `True`), or\n",
    "- the function returned `True` (but should have returned `False`).\n",
    "\n",
    "To get credit for completing this question, your code should return a <font color='#33cc33'>Correct</font> result."
   ]
  },
  {
   "cell_type": "code",
   "execution_count": 8,
   "id": "1a6f3cf0",
   "metadata": {
    "execution": {
     "iopub.execute_input": "2023-05-15T16:22:40.617555Z",
     "iopub.status.busy": "2023-05-15T16:22:40.616598Z",
     "iopub.status.idle": "2023-05-15T16:22:40.627342Z",
     "shell.execute_reply": "2023-05-15T16:22:40.625737Z"
    },
    "papermill": {
     "duration": 0.023602,
     "end_time": "2023-05-15T16:22:40.629862",
     "exception": false,
     "start_time": "2023-05-15T16:22:40.606260",
     "status": "completed"
    },
    "tags": []
   },
   "outputs": [
    {
     "name": "stdout",
     "output_type": "stream",
     "text": [
      "False\n"
     ]
    },
    {
     "data": {
      "application/javascript": [
       "parent.postMessage({\"jupyterEvent\": \"custom.exercise_interaction\", \"data\": {\"outcomeType\": 1, \"valueTowardsCompletion\": 0.2, \"interactionType\": 1, \"questionType\": 1, \"questionId\": \"3_WeatherDebug\", \"learnToolsVersion\": \"0.3.4\", \"failureMessage\": \"\", \"exceptionClass\": \"\", \"trace\": \"\"}}, \"*\")"
      ],
      "text/plain": [
       "<IPython.core.display.Javascript object>"
      ]
     },
     "metadata": {},
     "output_type": "display_data"
    },
    {
     "data": {
      "text/markdown": [
       "<span style=\"color:#33cc33\">Correct:</span> \n",
       "\n",
       "One example of a failing test case is:\n",
       "\n",
       "```python\n",
       "have_umbrella = False\n",
       "rain_level = 0.0\n",
       "have_hood = False\n",
       "is_workday = False\n",
       "```\n",
       "\n",
       "Clearly we're prepared for the weather in this case. It's not raining. Not only that, it's not a workday, so we don't even need to leave the house! But our function will return False on these inputs.\n",
       "\n",
       "The key problem is that Python implictly parenthesizes the last part as:\n",
       "\n",
       "```python\n",
       "(not (rain_level > 0)) and is_workday\n",
       "```\n",
       "\n",
       "Whereas what we were trying to express would look more like:\n",
       "\n",
       "```python\n",
       "not (rain_level > 0 and is_workday)\n",
       "```\n"
      ],
      "text/plain": [
       "Correct: \n",
       "\n",
       "One example of a failing test case is:\n",
       "\n",
       "```python\n",
       "have_umbrella = False\n",
       "rain_level = 0.0\n",
       "have_hood = False\n",
       "is_workday = False\n",
       "```\n",
       "\n",
       "Clearly we're prepared for the weather in this case. It's not raining. Not only that, it's not a workday, so we don't even need to leave the house! But our function will return False on these inputs.\n",
       "\n",
       "The key problem is that Python implictly parenthesizes the last part as:\n",
       "\n",
       "```python\n",
       "(not (rain_level > 0)) and is_workday\n",
       "```\n",
       "\n",
       "Whereas what we were trying to express would look more like:\n",
       "\n",
       "```python\n",
       "not (rain_level > 0 and is_workday)\n",
       "```"
      ]
     },
     "metadata": {},
     "output_type": "display_data"
    }
   ],
   "source": [
    "def prepared_for_weather(have_umbrella, rain_level, have_hood, is_workday):\n",
    "    return have_umbrella or rain_level < 5 and have_hood or not rain_level > 0 and is_workday\n",
    "\n",
    "have_umbrella = False\n",
    "rain_level = 0.0\n",
    "have_hood = False\n",
    "is_workday = False\n",
    "\n",
    "actual = prepared_for_weather(have_umbrella, rain_level, have_hood, is_workday)\n",
    "print(actual)\n",
    "\n",
    "\n",
    "# Check your answer\n",
    "q3.check()"
   ]
  },
  {
   "cell_type": "code",
   "execution_count": 9,
   "id": "1dec5723",
   "metadata": {
    "execution": {
     "iopub.execute_input": "2023-05-15T16:22:40.648513Z",
     "iopub.status.busy": "2023-05-15T16:22:40.648097Z",
     "iopub.status.idle": "2023-05-15T16:22:40.652996Z",
     "shell.execute_reply": "2023-05-15T16:22:40.651833Z"
    },
    "papermill": {
     "duration": 0.016656,
     "end_time": "2023-05-15T16:22:40.655100",
     "exception": false,
     "start_time": "2023-05-15T16:22:40.638444",
     "status": "completed"
    },
    "tags": []
   },
   "outputs": [],
   "source": [
    "#q3.hint()\n",
    "#q3.solution()"
   ]
  },
  {
   "cell_type": "markdown",
   "id": "da5f77a7",
   "metadata": {
    "papermill": {
     "duration": 0.008641,
     "end_time": "2023-05-15T16:22:40.672155",
     "exception": false,
     "start_time": "2023-05-15T16:22:40.663514",
     "status": "completed"
    },
    "tags": []
   },
   "source": [
    "# 4.\n",
    "\n",
    "The function `is_negative` below is implemented correctly - it returns True if the given number is negative and False otherwise.\n",
    "\n",
    "However, it's more verbose than it needs to be. We can actually reduce the number of lines of code in this function by *75%* while keeping the same behaviour. \n",
    "\n",
    "See if you can come up with an equivalent body that uses just **one line** of code, and put it in the function `concise_is_negative`. (HINT: you don't even need Python's ternary syntax)"
   ]
  },
  {
   "cell_type": "code",
   "execution_count": 10,
   "id": "94ab6b92",
   "metadata": {
    "execution": {
     "iopub.execute_input": "2023-05-15T16:22:40.692801Z",
     "iopub.status.busy": "2023-05-15T16:22:40.692263Z",
     "iopub.status.idle": "2023-05-15T16:22:40.698922Z",
     "shell.execute_reply": "2023-05-15T16:22:40.698028Z"
    },
    "papermill": {
     "duration": 0.017992,
     "end_time": "2023-05-15T16:22:40.700484",
     "exception": false,
     "start_time": "2023-05-15T16:22:40.682492",
     "status": "completed"
    },
    "tags": []
   },
   "outputs": [
    {
     "data": {
      "application/javascript": [
       "parent.postMessage({\"jupyterEvent\": \"custom.exercise_interaction\", \"data\": {\"outcomeType\": 1, \"valueTowardsCompletion\": 0.2, \"interactionType\": 1, \"questionType\": 2, \"questionId\": \"4_ConciseIsNegative\", \"learnToolsVersion\": \"0.3.4\", \"failureMessage\": \"\", \"exceptionClass\": \"\", \"trace\": \"\"}}, \"*\")"
      ],
      "text/plain": [
       "<IPython.core.display.Javascript object>"
      ]
     },
     "metadata": {},
     "output_type": "display_data"
    },
    {
     "data": {
      "text/markdown": [
       "<span style=\"color:#33cc33\">Correct</span>"
      ],
      "text/plain": [
       "Correct"
      ]
     },
     "metadata": {},
     "output_type": "display_data"
    }
   ],
   "source": [
    "def is_negative(number):\n",
    "    if number < 0:\n",
    "        return True\n",
    "    else:\n",
    "        return False\n",
    "\n",
    "def concise_is_negative(number):\n",
    "    return number < 0 # Your code goes here (try to keep it to one line!)\n",
    "\n",
    "# Check your answer\n",
    "q4.check()"
   ]
  },
  {
   "cell_type": "code",
   "execution_count": 11,
   "id": "6605dfb1",
   "metadata": {
    "execution": {
     "iopub.execute_input": "2023-05-15T16:22:40.718893Z",
     "iopub.status.busy": "2023-05-15T16:22:40.718241Z",
     "iopub.status.idle": "2023-05-15T16:22:40.721201Z",
     "shell.execute_reply": "2023-05-15T16:22:40.720712Z"
    },
    "papermill": {
     "duration": 0.014245,
     "end_time": "2023-05-15T16:22:40.723100",
     "exception": false,
     "start_time": "2023-05-15T16:22:40.708855",
     "status": "completed"
    },
    "tags": []
   },
   "outputs": [],
   "source": [
    "#q4.hint()\n",
    "#q4.solution()"
   ]
  },
  {
   "cell_type": "markdown",
   "id": "b9e0482b",
   "metadata": {
    "papermill": {
     "duration": 0.009138,
     "end_time": "2023-05-15T16:22:40.741987",
     "exception": false,
     "start_time": "2023-05-15T16:22:40.732849",
     "status": "completed"
    },
    "tags": []
   },
   "source": [
    "return number < 0# 5a.\n",
    "\n",
    "The boolean variables `ketchup`, `mustard` and `onion` represent whether a customer wants a particular topping on their hot dog. We want to implement a number of boolean functions that correspond to some yes-or-no questions about the customer's order. For example:"
   ]
  },
  {
   "cell_type": "code",
   "execution_count": 12,
   "id": "6f54e42a",
   "metadata": {
    "execution": {
     "iopub.execute_input": "2023-05-15T16:22:40.762769Z",
     "iopub.status.busy": "2023-05-15T16:22:40.762217Z",
     "iopub.status.idle": "2023-05-15T16:22:40.767455Z",
     "shell.execute_reply": "2023-05-15T16:22:40.765976Z"
    },
    "papermill": {
     "duration": 0.017267,
     "end_time": "2023-05-15T16:22:40.769562",
     "exception": false,
     "start_time": "2023-05-15T16:22:40.752295",
     "status": "completed"
    },
    "tags": []
   },
   "outputs": [],
   "source": [
    "def onionless(ketchup, mustard, onion):\n",
    "    \"\"\"Return whether the customer doesn't want onions.\n",
    "    \"\"\"\n",
    "    return not onion"
   ]
  },
  {
   "cell_type": "code",
   "execution_count": 13,
   "id": "40b7251b",
   "metadata": {
    "execution": {
     "iopub.execute_input": "2023-05-15T16:22:40.790820Z",
     "iopub.status.busy": "2023-05-15T16:22:40.790139Z",
     "iopub.status.idle": "2023-05-15T16:22:40.797820Z",
     "shell.execute_reply": "2023-05-15T16:22:40.796810Z"
    },
    "papermill": {
     "duration": 0.021358,
     "end_time": "2023-05-15T16:22:40.799906",
     "exception": false,
     "start_time": "2023-05-15T16:22:40.778548",
     "status": "completed"
    },
    "tags": []
   },
   "outputs": [
    {
     "data": {
      "application/javascript": [
       "parent.postMessage({\"jupyterEvent\": \"custom.exercise_interaction\", \"data\": {\"outcomeType\": 1, \"valueTowardsCompletion\": 0.2, \"interactionType\": 1, \"questionType\": 2, \"questionId\": \"5.1_AllToppings\", \"learnToolsVersion\": \"0.3.4\", \"failureMessage\": \"\", \"exceptionClass\": \"\", \"trace\": \"\"}}, \"*\")"
      ],
      "text/plain": [
       "<IPython.core.display.Javascript object>"
      ]
     },
     "metadata": {},
     "output_type": "display_data"
    },
    {
     "data": {
      "text/markdown": [
       "<span style=\"color:#33cc33\">Correct</span>"
      ],
      "text/plain": [
       "Correct"
      ]
     },
     "metadata": {},
     "output_type": "display_data"
    }
   ],
   "source": [
    "def wants_all_toppings(ketchup, mustard, onion):\n",
    "    \"\"\"Return whether the customer wants \"the works\" (all 3 toppings)\n",
    "    \"\"\"\n",
    "    return ketchup and mustard and onion\n",
    "\n",
    "\n",
    "# Check your answer\n",
    "q5.a.check()"
   ]
  },
  {
   "cell_type": "code",
   "execution_count": 14,
   "id": "bd8dbd13",
   "metadata": {
    "execution": {
     "iopub.execute_input": "2023-05-15T16:22:40.823359Z",
     "iopub.status.busy": "2023-05-15T16:22:40.822840Z",
     "iopub.status.idle": "2023-05-15T16:22:40.827113Z",
     "shell.execute_reply": "2023-05-15T16:22:40.825982Z"
    },
    "papermill": {
     "duration": 0.016577,
     "end_time": "2023-05-15T16:22:40.829264",
     "exception": false,
     "start_time": "2023-05-15T16:22:40.812687",
     "status": "completed"
    },
    "tags": []
   },
   "outputs": [],
   "source": [
    "#q5.a.hint()\n",
    "#q5.a.solution()"
   ]
  },
  {
   "cell_type": "markdown",
   "id": "cf5426db",
   "metadata": {
    "papermill": {
     "duration": 0.009132,
     "end_time": "2023-05-15T16:22:40.849501",
     "exception": false,
     "start_time": "2023-05-15T16:22:40.840369",
     "status": "completed"
    },
    "tags": []
   },
   "source": [
    "# 5b.\n",
    "\n",
    "For the next function, fill in the body to match the English description in the docstring. "
   ]
  },
  {
   "cell_type": "code",
   "execution_count": 15,
   "id": "3d504b8e",
   "metadata": {
    "execution": {
     "iopub.execute_input": "2023-05-15T16:22:40.869180Z",
     "iopub.status.busy": "2023-05-15T16:22:40.868751Z",
     "iopub.status.idle": "2023-05-15T16:22:40.877604Z",
     "shell.execute_reply": "2023-05-15T16:22:40.876941Z"
    },
    "papermill": {
     "duration": 0.020791,
     "end_time": "2023-05-15T16:22:40.879363",
     "exception": false,
     "start_time": "2023-05-15T16:22:40.858572",
     "status": "completed"
    },
    "tags": []
   },
   "outputs": [
    {
     "data": {
      "application/javascript": [
       "parent.postMessage({\"jupyterEvent\": \"custom.exercise_interaction\", \"data\": {\"outcomeType\": 1, \"valueTowardsCompletion\": 0.2, \"interactionType\": 1, \"questionType\": 2, \"questionId\": \"5.2_PlainDog\", \"learnToolsVersion\": \"0.3.4\", \"failureMessage\": \"\", \"exceptionClass\": \"\", \"trace\": \"\"}}, \"*\")"
      ],
      "text/plain": [
       "<IPython.core.display.Javascript object>"
      ]
     },
     "metadata": {},
     "output_type": "display_data"
    },
    {
     "data": {
      "text/markdown": [
       "<span style=\"color:#33cc33\">Correct:</span> \n",
       "\n",
       "One solution looks like:\n",
       "```python\n",
       "return not ketchup and not mustard and not onion\n",
       "```\n",
       "\n",
       "We can also [\"factor out\" the nots](https://en.wikipedia.org/wiki/De_Morgan%27s_laws) to get:\n",
       "\n",
       "```python\n",
       "return not (ketchup or mustard or onion)\n",
       "```"
      ],
      "text/plain": [
       "Correct: \n",
       "\n",
       "One solution looks like:\n",
       "```python\n",
       "return not ketchup and not mustard and not onion\n",
       "```\n",
       "\n",
       "We can also [\"factor out\" the nots](https://en.wikipedia.org/wiki/De_Morgan%27s_laws) to get:\n",
       "\n",
       "```python\n",
       "return not (ketchup or mustard or onion)\n",
       "```"
      ]
     },
     "metadata": {},
     "output_type": "display_data"
    }
   ],
   "source": [
    "def wants_plain_hotdog(ketchup, mustard, onion):\n",
    "    \"\"\"Return whether the customer wants a plain hot dog with no toppings.\n",
    "    \"\"\"\n",
    "    return not (ketchup or mustard or onion)\n",
    "\n",
    "\n",
    "# Check your answer\n",
    "q5.b.check()"
   ]
  },
  {
   "cell_type": "code",
   "execution_count": 16,
   "id": "54b98243",
   "metadata": {
    "execution": {
     "iopub.execute_input": "2023-05-15T16:22:40.898603Z",
     "iopub.status.busy": "2023-05-15T16:22:40.898116Z",
     "iopub.status.idle": "2023-05-15T16:22:40.901854Z",
     "shell.execute_reply": "2023-05-15T16:22:40.900984Z"
    },
    "papermill": {
     "duration": 0.015079,
     "end_time": "2023-05-15T16:22:40.903478",
     "exception": false,
     "start_time": "2023-05-15T16:22:40.888399",
     "status": "completed"
    },
    "tags": []
   },
   "outputs": [],
   "source": [
    "#q5.b.hint()\n",
    "#q5.b.solution()"
   ]
  },
  {
   "cell_type": "markdown",
   "id": "e5948580",
   "metadata": {
    "papermill": {
     "duration": 0.008734,
     "end_time": "2023-05-15T16:22:40.921091",
     "exception": false,
     "start_time": "2023-05-15T16:22:40.912357",
     "status": "completed"
    },
    "tags": []
   },
   "source": [
    "# 5c.\n",
    "\n",
    "You know what to do: for the next function, fill in the body to match the English description in the docstring."
   ]
  },
  {
   "cell_type": "code",
   "execution_count": 17,
   "id": "3f74a40c",
   "metadata": {
    "execution": {
     "iopub.execute_input": "2023-05-15T16:22:40.941593Z",
     "iopub.status.busy": "2023-05-15T16:22:40.940605Z",
     "iopub.status.idle": "2023-05-15T16:22:40.949745Z",
     "shell.execute_reply": "2023-05-15T16:22:40.948594Z"
    },
    "papermill": {
     "duration": 0.021091,
     "end_time": "2023-05-15T16:22:40.951627",
     "exception": false,
     "start_time": "2023-05-15T16:22:40.930536",
     "status": "completed"
    },
    "tags": []
   },
   "outputs": [
    {
     "data": {
      "application/javascript": [
       "parent.postMessage({\"jupyterEvent\": \"custom.exercise_interaction\", \"data\": {\"outcomeType\": 1, \"valueTowardsCompletion\": 0.2, \"interactionType\": 1, \"questionType\": 2, \"questionId\": \"5.3_OneSauce\", \"learnToolsVersion\": \"0.3.4\", \"failureMessage\": \"\", \"exceptionClass\": \"\", \"trace\": \"\"}}, \"*\")"
      ],
      "text/plain": [
       "<IPython.core.display.Javascript object>"
      ]
     },
     "metadata": {},
     "output_type": "display_data"
    },
    {
     "data": {
      "text/markdown": [
       "<span style=\"color:#33cc33\">Correct</span>"
      ],
      "text/plain": [
       "Correct"
      ]
     },
     "metadata": {},
     "output_type": "display_data"
    }
   ],
   "source": [
    "def exactly_one_sauce(ketchup, mustard, onion):\n",
    "    \"\"\"Return whether the customer wants either ketchup or mustard, but not both.\n",
    "    (You may be familiar with this operation under the name \"exclusive or\")\n",
    "    \"\"\"\n",
    "    return (ketchup and not mustard) or (mustard and not ketchup)\n",
    "\n",
    "\n",
    "# Check your answer\n",
    "q5.c.check()"
   ]
  },
  {
   "cell_type": "code",
   "execution_count": 18,
   "id": "45feea4d",
   "metadata": {
    "execution": {
     "iopub.execute_input": "2023-05-15T16:22:40.972717Z",
     "iopub.status.busy": "2023-05-15T16:22:40.971622Z",
     "iopub.status.idle": "2023-05-15T16:22:40.975748Z",
     "shell.execute_reply": "2023-05-15T16:22:40.975065Z"
    },
    "papermill": {
     "duration": 0.016622,
     "end_time": "2023-05-15T16:22:40.977274",
     "exception": false,
     "start_time": "2023-05-15T16:22:40.960652",
     "status": "completed"
    },
    "tags": []
   },
   "outputs": [],
   "source": [
    "#q5.c.hint()\n",
    "#q5.c.solution()"
   ]
  },
  {
   "cell_type": "markdown",
   "id": "39d4aaca",
   "metadata": {
    "papermill": {
     "duration": 0.008604,
     "end_time": "2023-05-15T16:22:40.995003",
     "exception": false,
     "start_time": "2023-05-15T16:22:40.986399",
     "status": "completed"
    },
    "tags": []
   },
   "source": [
    "# 6. <span title=\"A bit spicy\" style=\"color: darkgreen \">🌶️</span>\n",
    "\n",
    "We’ve seen that calling `bool()` on an integer returns `False` if it’s equal to 0 and `True` otherwise. What happens if we call `int()` on a bool? Try it out in the notebook cell below.\n",
    "\n",
    "Can you take advantage of this to write a succinct function that corresponds to the English sentence \"does the customer want exactly one topping?\"?"
   ]
  },
  {
   "cell_type": "code",
   "execution_count": 19,
   "id": "a7702d79",
   "metadata": {
    "execution": {
     "iopub.execute_input": "2023-05-15T16:22:41.014349Z",
     "iopub.status.busy": "2023-05-15T16:22:41.014060Z",
     "iopub.status.idle": "2023-05-15T16:22:41.024881Z",
     "shell.execute_reply": "2023-05-15T16:22:41.023739Z"
    },
    "papermill": {
     "duration": 0.022967,
     "end_time": "2023-05-15T16:22:41.026775",
     "exception": false,
     "start_time": "2023-05-15T16:22:41.003808",
     "status": "completed"
    },
    "tags": []
   },
   "outputs": [
    {
     "data": {
      "application/javascript": [
       "parent.postMessage({\"jupyterEvent\": \"custom.exercise_interaction\", \"data\": {\"outcomeType\": 1, \"valueTowardsCompletion\": 0.2, \"interactionType\": 1, \"questionType\": 2, \"questionId\": \"6_OneTopping\", \"learnToolsVersion\": \"0.3.4\", \"failureMessage\": \"\", \"exceptionClass\": \"\", \"trace\": \"\"}}, \"*\")"
      ],
      "text/plain": [
       "<IPython.core.display.Javascript object>"
      ]
     },
     "metadata": {},
     "output_type": "display_data"
    },
    {
     "data": {
      "text/markdown": [
       "<span style=\"color:#33cc33\">Correct:</span> \n",
       "\n",
       "This condition would be pretty complicated to express using just `and`, `or` and `not`, but using boolean-to-integer conversion gives us this short solution:\n",
       "```python\n",
       "return (int(ketchup) + int(mustard) + int(onion)) == 1\n",
       "```\n",
       "\n",
       "Fun fact: we don't technically need to call `int` on the arguments. Just by doing addition with booleans, Python implicitly does the integer conversion. So we could also write...\n",
       "\n",
       "```python\n",
       "return (ketchup + mustard + onion) == 1\n",
       "```"
      ],
      "text/plain": [
       "Correct: \n",
       "\n",
       "This condition would be pretty complicated to express using just `and`, `or` and `not`, but using boolean-to-integer conversion gives us this short solution:\n",
       "```python\n",
       "return (int(ketchup) + int(mustard) + int(onion)) == 1\n",
       "```\n",
       "\n",
       "Fun fact: we don't technically need to call `int` on the arguments. Just by doing addition with booleans, Python implicitly does the integer conversion. So we could also write...\n",
       "\n",
       "```python\n",
       "return (ketchup + mustard + onion) == 1\n",
       "```"
      ]
     },
     "metadata": {},
     "output_type": "display_data"
    }
   ],
   "source": [
    "def exactly_one_topping(ketchup, mustard, onion):\n",
    "    \"\"\"Return whether the customer wants exactly one of the three available toppings\n",
    "    on their hot dog.\n",
    "    \"\"\"\n",
    "    return int(ketchup) + int(mustard) + int(onion) == 1\n",
    "\n",
    "\n",
    "# Check your answer\n",
    "q6.check()"
   ]
  },
  {
   "cell_type": "code",
   "execution_count": 20,
   "id": "f142116d",
   "metadata": {
    "execution": {
     "iopub.execute_input": "2023-05-15T16:22:41.048008Z",
     "iopub.status.busy": "2023-05-15T16:22:41.047486Z",
     "iopub.status.idle": "2023-05-15T16:22:41.050388Z",
     "shell.execute_reply": "2023-05-15T16:22:41.049869Z"
    },
    "papermill": {
     "duration": 0.015263,
     "end_time": "2023-05-15T16:22:41.051814",
     "exception": false,
     "start_time": "2023-05-15T16:22:41.036551",
     "status": "completed"
    },
    "tags": []
   },
   "outputs": [],
   "source": [
    "#q6.hint()\n",
    "#q6.solution()"
   ]
  },
  {
   "cell_type": "markdown",
   "id": "491ee223",
   "metadata": {
    "papermill": {
     "duration": 0.009819,
     "end_time": "2023-05-15T16:22:41.071243",
     "exception": false,
     "start_time": "2023-05-15T16:22:41.061424",
     "status": "completed"
    },
    "tags": []
   },
   "source": [
    "# 7. <span title=\"A bit spicy\" style=\"color: darkgreen \">🌶️</span> (Optional)\n",
    "\n",
    "In this problem we'll be working with a simplified version of [blackjack](https://en.wikipedia.org/wiki/Blackjack) (aka twenty-one). In this version there is one player (who you'll control) and a dealer. Play proceeds as follows:\n",
    "\n",
    "- The player is dealt two face-up cards. The dealer is dealt one face-up card.\n",
    "- The player may ask to be dealt another card ('hit') as many times as they wish. If the sum of their cards exceeds 21, they lose the round immediately.\n",
    "- The dealer then deals additional cards to himself until either:\n",
    "    - the sum of the dealer's cards exceeds 21, in which case the player wins the round\n",
    "    - the sum of the dealer's cards is greater than or equal to 17. If the player's total is greater than the dealer's, the player wins. Otherwise, the dealer wins (even in case of a tie).\n",
    "    \n",
    "When calculating the sum of cards, Jack, Queen, and King count for 10. Aces can count as 1 or 11 (when referring to a player's \"total\" above, we mean the largest total that can be made without exceeding 21. So e.g. A+8 = 19, A+8+8 = 17)\n",
    "\n",
    "For this problem, you'll write a function representing the player's decision-making strategy in this game. We've provided a very unintelligent implementation below:"
   ]
  },
  {
   "cell_type": "code",
   "execution_count": 21,
   "id": "92a3af04",
   "metadata": {
    "execution": {
     "iopub.execute_input": "2023-05-15T16:22:41.091777Z",
     "iopub.status.busy": "2023-05-15T16:22:41.091450Z",
     "iopub.status.idle": "2023-05-15T16:22:41.097350Z",
     "shell.execute_reply": "2023-05-15T16:22:41.096016Z"
    },
    "jupyter": {
     "source_hidden": true
    },
    "papermill": {
     "duration": 0.018712,
     "end_time": "2023-05-15T16:22:41.099523",
     "exception": false,
     "start_time": "2023-05-15T16:22:41.080811",
     "status": "completed"
    },
    "tags": []
   },
   "outputs": [],
   "source": [
    "def should_hit(dealer_total, player_total, player_low_aces, player_high_aces):\n",
    "    \"\"\"Return True if the player should hit (request another card) given the current game\n",
    "    state, or False if the player should stay.\n",
    "    When calculating a hand's total value, we count aces as \"high\" (with value 11) if doing so\n",
    "    doesn't bring the total above 21, otherwise we count them as low (with value 1). \n",
    "    For example, if the player's hand is {A, A, A, 7}, we will count it as 11 + 1 + 1 + 7,\n",
    "    and therefore set player_total=20, player_low_aces=2, player_high_aces=1.\n",
    "    \"\"\"\n",
    "    if player_total == 21:\n",
    "        return False\n",
    "    elif player_total >= 20:\n",
    "        return False\n",
    "    elif dealer_total >= 7 and player_total >= 17:\n",
    "        return False\n",
    "    elif dealer_total in [4, 5, 6] and player_total >= 12:\n",
    "        return False\n",
    "    elif player_high_aces > 0 and player_total <= 17:\n",
    "        return True\n",
    "    else:\n",
    "        return True\n"
   ]
  },
  {
   "cell_type": "markdown",
   "id": "40693069",
   "metadata": {
    "papermill": {
     "duration": 0.009479,
     "end_time": "2023-05-15T16:22:41.118846",
     "exception": false,
     "start_time": "2023-05-15T16:22:41.109367",
     "status": "completed"
    },
    "tags": []
   },
   "source": [
    "This very conservative agent *always* sticks with the hand of two cards that they're dealt.\n",
    "\n",
    "We'll be simulating games between your player agent and our own dealer agent by calling your function.\n",
    "\n",
    "Try running the function below to see an example of a simulated game:"
   ]
  },
  {
   "cell_type": "code",
   "execution_count": 22,
   "id": "9108dd60",
   "metadata": {
    "execution": {
     "iopub.execute_input": "2023-05-15T16:22:41.139607Z",
     "iopub.status.busy": "2023-05-15T16:22:41.139341Z",
     "iopub.status.idle": "2023-05-15T16:22:41.143511Z",
     "shell.execute_reply": "2023-05-15T16:22:41.142990Z"
    },
    "papermill": {
     "duration": 0.016451,
     "end_time": "2023-05-15T16:22:41.145001",
     "exception": false,
     "start_time": "2023-05-15T16:22:41.128550",
     "status": "completed"
    },
    "tags": []
   },
   "outputs": [
    {
     "name": "stdout",
     "output_type": "stream",
     "text": [
      "Player starts with 4 and 4 (total = 8)\n",
      "Dealer starts with 2\n",
      "\n",
      "__Player's turn__\n",
      "Player hits and receives 2. (total = 10)\n",
      "Player hits and receives 5. (total = 15)\n",
      "Player hits and receives 3. (total = 18)\n",
      "Player hits and receives Q. (total = 28)\n",
      "Player busts! Dealer wins.\n"
     ]
    }
   ],
   "source": [
    "q7.simulate_one_game()"
   ]
  },
  {
   "cell_type": "markdown",
   "id": "5b520baa",
   "metadata": {
    "papermill": {
     "duration": 0.009568,
     "end_time": "2023-05-15T16:22:41.164363",
     "exception": false,
     "start_time": "2023-05-15T16:22:41.154795",
     "status": "completed"
    },
    "tags": []
   },
   "source": [
    "The real test of your agent's mettle is their average win rate over many games. Try calling the function below to simulate 50000 games of blackjack (it may take a couple seconds):"
   ]
  },
  {
   "cell_type": "code",
   "execution_count": 23,
   "id": "b123a89b",
   "metadata": {
    "execution": {
     "iopub.execute_input": "2023-05-15T16:22:41.185732Z",
     "iopub.status.busy": "2023-05-15T16:22:41.184427Z",
     "iopub.status.idle": "2023-05-15T16:22:42.417092Z",
     "shell.execute_reply": "2023-05-15T16:22:42.416179Z"
    },
    "papermill": {
     "duration": 1.244848,
     "end_time": "2023-05-15T16:22:42.418931",
     "exception": false,
     "start_time": "2023-05-15T16:22:41.174083",
     "status": "completed"
    },
    "tags": []
   },
   "outputs": [
    {
     "name": "stdout",
     "output_type": "stream",
     "text": [
      "Player won 19915 out of 50000 games (win rate = 39.8%)\n"
     ]
    }
   ],
   "source": [
    "q7.simulate(n_games=50000)"
   ]
  },
  {
   "cell_type": "markdown",
   "id": "45fad015",
   "metadata": {
    "papermill": {
     "duration": 0.009439,
     "end_time": "2023-05-15T16:22:42.439396",
     "exception": false,
     "start_time": "2023-05-15T16:22:42.429957",
     "status": "completed"
    },
    "tags": []
   },
   "source": [
    "Our dumb agent that completely ignores the game state still manages to win shockingly often!\n",
    "\n",
    "Try adding some more smarts to the `should_hit` function and see how it affects the results."
   ]
  },
  {
   "cell_type": "code",
   "execution_count": 24,
   "id": "9243caab",
   "metadata": {
    "execution": {
     "iopub.execute_input": "2023-05-15T16:22:42.465157Z",
     "iopub.status.busy": "2023-05-15T16:22:42.464307Z",
     "iopub.status.idle": "2023-05-15T16:22:43.600606Z",
     "shell.execute_reply": "2023-05-15T16:22:43.599562Z"
    },
    "papermill": {
     "duration": 1.15201,
     "end_time": "2023-05-15T16:22:43.602177",
     "exception": false,
     "start_time": "2023-05-15T16:22:42.450167",
     "status": "completed"
    },
    "tags": []
   },
   "outputs": [
    {
     "name": "stdout",
     "output_type": "stream",
     "text": [
      "Player won 18975 out of 50000 games (win rate = 38.0%)\n"
     ]
    }
   ],
   "source": [
    "def should_hit(dealer_total, player_total, player_low_aces, player_high_aces):\n",
    "    \"\"\"Return True if the player should hit (request another card) given the current game\n",
    "    state, or False if the player should stay.\n",
    "    When calculating a hand's total value, we count aces as \"high\" (with value 11) if doing so\n",
    "    doesn't bring the total above 21, otherwise we count them as low (with value 1). \n",
    "    For example, if the player's hand is {A, A, A, 7}, we will count it as 11 + 1 + 1 + 7,\n",
    "    and therefore set player_total=20, player_low_aces=2, player_high_aces=1.\n",
    "    \"\"\"\n",
    "    return False\n",
    "\n",
    "q7.simulate(n_games=50000)"
   ]
  },
  {
   "cell_type": "markdown",
   "id": "edfaf286",
   "metadata": {
    "papermill": {
     "duration": 0.009781,
     "end_time": "2023-05-15T16:22:43.621802",
     "exception": false,
     "start_time": "2023-05-15T16:22:43.612021",
     "status": "completed"
    },
    "tags": []
   },
   "source": [
    "# Keep Going\n",
    "\n",
    "Learn about **[lists and tuples](https://www.kaggle.com/colinmorris/lists)** to handle multiple items of data in a systematic way."
   ]
  },
  {
   "cell_type": "markdown",
   "id": "d92bad00",
   "metadata": {
    "papermill": {
     "duration": 0.009412,
     "end_time": "2023-05-15T16:22:43.641050",
     "exception": false,
     "start_time": "2023-05-15T16:22:43.631638",
     "status": "completed"
    },
    "tags": []
   },
   "source": [
    "---\n",
    "\n",
    "\n",
    "\n",
    "\n",
    "*Have questions or comments? Visit the [course discussion forum](https://www.kaggle.com/learn/python/discussion) to chat with other learners.*"
   ]
  }
 ],
 "metadata": {
  "kernelspec": {
   "display_name": "Python 3",
   "language": "python",
   "name": "python3"
  },
  "language_info": {
   "codemirror_mode": {
    "name": "ipython",
    "version": 3
   },
   "file_extension": ".py",
   "mimetype": "text/x-python",
   "name": "python",
   "nbconvert_exporter": "python",
   "pygments_lexer": "ipython3",
   "version": "3.10.10"
  },
  "papermill": {
   "default_parameters": {},
   "duration": 13.09029,
   "end_time": "2023-05-15T16:22:44.371158",
   "environment_variables": {},
   "exception": null,
   "input_path": "__notebook__.ipynb",
   "output_path": "__notebook__.ipynb",
   "parameters": {},
   "start_time": "2023-05-15T16:22:31.280868",
   "version": "2.4.0"
  }
 },
 "nbformat": 4,
 "nbformat_minor": 5
}
