{
 "cells": [
  {
   "cell_type": "markdown",
   "id": "5d9f5aa8",
   "metadata": {
    "papermill": {
     "duration": 0.008868,
     "end_time": "2023-05-15T13:53:27.217371",
     "exception": false,
     "start_time": "2023-05-15T13:53:27.208503",
     "status": "completed"
    },
    "tags": []
   },
   "source": [
    "**This notebook is an exercise in the [Python](https://www.kaggle.com/learn/python) course.  You can reference the tutorial at [this link](https://www.kaggle.com/colinmorris/hello-python).**\n",
    "\n",
    "---\n"
   ]
  },
  {
   "cell_type": "markdown",
   "id": "1662ef5f",
   "metadata": {
    "papermill": {
     "duration": 0.009564,
     "end_time": "2023-05-15T13:53:27.235151",
     "exception": false,
     "start_time": "2023-05-15T13:53:27.225587",
     "status": "completed"
    },
    "tags": []
   },
   "source": [
    "Welcome to your first set of Python coding problems.  If this is your first time using Kaggle Notebooks, welcome! \n",
    "\n",
    "Notebooks are composed of blocks (called \"cells\") of text and code. Each of these is editable, though you'll mainly be editing the code cells to answer some questions.\n",
    "\n",
    "To get started, try running the code cell below (by pressing the ► button, or clicking on the cell and pressing ctrl+enter on your keyboard)."
   ]
  },
  {
   "cell_type": "code",
   "execution_count": 1,
   "id": "36a593da",
   "metadata": {
    "execution": {
     "iopub.execute_input": "2023-05-15T13:53:27.253209Z",
     "iopub.status.busy": "2023-05-15T13:53:27.252552Z",
     "iopub.status.idle": "2023-05-15T13:53:27.263398Z",
     "shell.execute_reply": "2023-05-15T13:53:27.262667Z"
    },
    "papermill": {
     "duration": 0.022458,
     "end_time": "2023-05-15T13:53:27.265663",
     "exception": false,
     "start_time": "2023-05-15T13:53:27.243205",
     "status": "completed"
    },
    "tags": []
   },
   "outputs": [
    {
     "name": "stdout",
     "output_type": "stream",
     "text": [
      "You've successfully run some Python code\n",
      "Congratulations!\n"
     ]
    }
   ],
   "source": [
    "print(\"You've successfully run some Python code\")\n",
    "print(\"Congratulations!\")"
   ]
  },
  {
   "cell_type": "markdown",
   "id": "9b503503",
   "metadata": {
    "papermill": {
     "duration": 0.007787,
     "end_time": "2023-05-15T13:53:27.282198",
     "exception": false,
     "start_time": "2023-05-15T13:53:27.274411",
     "status": "completed"
    },
    "tags": []
   },
   "source": [
    "Try adding another line of code in the cell above and re-running it. \n",
    "\n",
    "Now let's get a little fancier:  Add a new code cell by clicking on an existing code cell, hitting the escape key, and then hitting the `a` or `b` key.  The `a` key will add a cell above the current cell, and `b` adds a cell below.\n",
    "\n",
    "Great! Now you know how to use Notebooks.\n",
    "\n",
    "Each hands-on exercise starts by setting up our feedback and code checking mechanism. Run the code cell below to do that. Then you'll be ready to move on to question 0."
   ]
  },
  {
   "cell_type": "code",
   "execution_count": 2,
   "id": "b65201b3",
   "metadata": {
    "_kg_hide-input": true,
    "_kg_hide-output": true,
    "execution": {
     "iopub.execute_input": "2023-05-15T13:53:27.300395Z",
     "iopub.status.busy": "2023-05-15T13:53:27.299705Z",
     "iopub.status.idle": "2023-05-15T13:53:27.347111Z",
     "shell.execute_reply": "2023-05-15T13:53:27.345949Z"
    },
    "papermill": {
     "duration": 0.059312,
     "end_time": "2023-05-15T13:53:27.349572",
     "exception": false,
     "start_time": "2023-05-15T13:53:27.290260",
     "status": "completed"
    },
    "tags": []
   },
   "outputs": [
    {
     "name": "stdout",
     "output_type": "stream",
     "text": [
      "Setup complete! You're ready to start question 0.\n"
     ]
    }
   ],
   "source": [
    "from learntools.core import binder; binder.bind(globals())\n",
    "from learntools.python.ex1 import *\n",
    "print(\"Setup complete! You're ready to start question 0.\")"
   ]
  },
  {
   "cell_type": "markdown",
   "id": "299852f1",
   "metadata": {
    "papermill": {
     "duration": 0.008009,
     "end_time": "2023-05-15T13:53:27.365958",
     "exception": false,
     "start_time": "2023-05-15T13:53:27.357949",
     "status": "completed"
    },
    "tags": []
   },
   "source": [
    "# 0.\n",
    "\n",
    "*This is a silly question intended as an introduction to the format we use for hands-on exercises throughout all Kaggle courses.*\n",
    "\n",
    "**What is your favorite color? **\n",
    "\n",
    "To complete this question, create a variable called `color` in the cell below with an appropriate value. The function call `q0.check()` (which we've already provided in the cell below) will check your answer."
   ]
  },
  {
   "cell_type": "code",
   "execution_count": 3,
   "id": "813d6ef2",
   "metadata": {
    "execution": {
     "iopub.execute_input": "2023-05-15T13:53:27.383906Z",
     "iopub.status.busy": "2023-05-15T13:53:27.383504Z",
     "iopub.status.idle": "2023-05-15T13:53:27.392477Z",
     "shell.execute_reply": "2023-05-15T13:53:27.391751Z"
    },
    "papermill": {
     "duration": 0.020804,
     "end_time": "2023-05-15T13:53:27.394853",
     "exception": false,
     "start_time": "2023-05-15T13:53:27.374049",
     "status": "completed"
    },
    "tags": []
   },
   "outputs": [
    {
     "data": {
      "application/javascript": [
       "parent.postMessage({\"jupyterEvent\": \"custom.exercise_interaction\", \"data\": {\"outcomeType\": 1, \"valueTowardsCompletion\": 0.25, \"interactionType\": 1, \"questionType\": 2, \"questionId\": \"0_ExerciseFormatTutorial\", \"learnToolsVersion\": \"0.3.4\", \"failureMessage\": \"\", \"exceptionClass\": \"\", \"trace\": \"\"}}, \"*\")"
      ],
      "text/plain": [
       "<IPython.core.display.Javascript object>"
      ]
     },
     "metadata": {},
     "output_type": "display_data"
    },
    {
     "data": {
      "text/markdown": [
       "<span style=\"color:#33cc33\">Correct:</span> What?! You got it right without needing a hint or anything? Drats. Well hey, you should still continue to the next step to get some practice asking for a hint and checking solutions. (Even though you obviously don't need any help here.)"
      ],
      "text/plain": [
       "Correct: What?! You got it right without needing a hint or anything? Drats. Well hey, you should still continue to the next step to get some practice asking for a hint and checking solutions. (Even though you obviously don't need any help here.)"
      ]
     },
     "metadata": {},
     "output_type": "display_data"
    }
   ],
   "source": [
    "# create a variable called color with an appropriate value on the line below\n",
    "# (Remember, strings in Python must be enclosed in 'single' or \"double\" quotes\n",
    "color = \"Blue\"\n",
    "\n",
    "\n",
    "\n",
    "# Check your answer\n",
    "q0.check()"
   ]
  },
  {
   "cell_type": "markdown",
   "id": "e7eb7dd8",
   "metadata": {
    "papermill": {
     "duration": 0.008294,
     "end_time": "2023-05-15T13:53:27.411874",
     "exception": false,
     "start_time": "2023-05-15T13:53:27.403580",
     "status": "completed"
    },
    "tags": []
   },
   "source": [
    "Didn't get the right answer? How do you not even know your own favorite color?!\n",
    "\n",
    "Delete the `#` in the line below to make one of the lines run. You can choose between getting a hint or the full answer by choosing which line to remove the `#` from. \n",
    "\n",
    "Removing the `#` is called uncommenting, because it changes that line from a \"comment\" which Python doesn't run to code, which Python does run."
   ]
  },
  {
   "cell_type": "code",
   "execution_count": 4,
   "id": "bf703f7f",
   "metadata": {
    "execution": {
     "iopub.execute_input": "2023-05-15T13:53:27.431319Z",
     "iopub.status.busy": "2023-05-15T13:53:27.430302Z",
     "iopub.status.idle": "2023-05-15T13:53:27.434336Z",
     "shell.execute_reply": "2023-05-15T13:53:27.433590Z"
    },
    "papermill": {
     "duration": 0.016076,
     "end_time": "2023-05-15T13:53:27.436392",
     "exception": false,
     "start_time": "2023-05-15T13:53:27.420316",
     "status": "completed"
    },
    "tags": []
   },
   "outputs": [],
   "source": [
    "#q0.hint()\n",
    "#q0.solution()"
   ]
  },
  {
   "cell_type": "markdown",
   "id": "bbf8c7c2",
   "metadata": {
    "papermill": {
     "duration": 0.008696,
     "end_time": "2023-05-15T13:53:27.453878",
     "exception": false,
     "start_time": "2023-05-15T13:53:27.445182",
     "status": "completed"
    },
    "tags": []
   },
   "source": [
    "The upcoming questions work the same way. The only thing that will change are the question numbers. For the next question, you'll call `q1.check()`, `q1.hint()`, `q1.solution()`, for question 2, you'll call `q2.check()`, and so on."
   ]
  },
  {
   "cell_type": "markdown",
   "id": "4a2f15c7",
   "metadata": {
    "papermill": {
     "duration": 0.008337,
     "end_time": "2023-05-15T13:53:27.471284",
     "exception": false,
     "start_time": "2023-05-15T13:53:27.462947",
     "status": "completed"
    },
    "tags": []
   },
   "source": [
    "<hr/>\n",
    "\n",
    "# 1.\n",
    "\n",
    "Complete the code below. In case it's helpful, here is the table of available arithmetic operations:\n",
    "\n",
    "\n",
    "\n",
    "| Operator     | Name           | Description                                            |\n",
    "|--------------|----------------|--------------------------------------------------------|\n",
    "| ``a + b``    | Addition       | Sum of ``a`` and ``b``                                 |\n",
    "| ``a - b``    | Subtraction    | Difference of ``a`` and ``b``                          |\n",
    "| ``a * b``    | Multiplication | Product of ``a`` and ``b``                             |\n",
    "| ``a / b``    | True division  | Quotient of ``a`` and ``b``                            |\n",
    "| ``a // b``   | Floor division | Quotient of ``a`` and ``b``, removing fractional parts |\n",
    "| ``a % b``    | Modulus        | Integer remainder after division of ``a`` by ``b``     |\n",
    "| ``a ** b``   | Exponentiation | ``a`` raised to the power of ``b``                     |\n",
    "| ``-a``       | Negation       | The negative of ``a``                                  |\n",
    "\n",
    "<span style=\"display:none\"></span>\n"
   ]
  },
  {
   "cell_type": "code",
   "execution_count": 5,
   "id": "92730483",
   "metadata": {
    "execution": {
     "iopub.execute_input": "2023-05-15T13:53:27.490883Z",
     "iopub.status.busy": "2023-05-15T13:53:27.489967Z",
     "iopub.status.idle": "2023-05-15T13:53:27.498353Z",
     "shell.execute_reply": "2023-05-15T13:53:27.497544Z"
    },
    "papermill": {
     "duration": 0.02024,
     "end_time": "2023-05-15T13:53:27.500294",
     "exception": false,
     "start_time": "2023-05-15T13:53:27.480054",
     "status": "completed"
    },
    "tags": []
   },
   "outputs": [
    {
     "data": {
      "application/javascript": [
       "parent.postMessage({\"jupyterEvent\": \"custom.exercise_interaction\", \"data\": {\"outcomeType\": 1, \"valueTowardsCompletion\": 0.25, \"interactionType\": 1, \"questionType\": 1, \"questionId\": \"1_CircleArea\", \"learnToolsVersion\": \"0.3.4\", \"failureMessage\": \"\", \"exceptionClass\": \"\", \"trace\": \"\"}}, \"*\")"
      ],
      "text/plain": [
       "<IPython.core.display.Javascript object>"
      ]
     },
     "metadata": {},
     "output_type": "display_data"
    },
    {
     "data": {
      "text/markdown": [
       "<span style=\"color:#33cc33\">Correct</span>"
      ],
      "text/plain": [
       "Correct"
      ]
     },
     "metadata": {},
     "output_type": "display_data"
    }
   ],
   "source": [
    "pi = 3.14159 # approximate\n",
    "diameter = 3\n",
    "\n",
    "# Create a variable called 'radius' equal to half the diameter\n",
    "radius = diameter/2\n",
    "\n",
    "# Create a variable called 'area', using the formula for the area of a circle: pi times the radius squared\n",
    "area = pi*(radius * radius)\n",
    "\n",
    "# Check your answer\n",
    "q1.check()"
   ]
  },
  {
   "cell_type": "code",
   "execution_count": 6,
   "id": "61f3e76e",
   "metadata": {
    "execution": {
     "iopub.execute_input": "2023-05-15T13:53:27.520498Z",
     "iopub.status.busy": "2023-05-15T13:53:27.519411Z",
     "iopub.status.idle": "2023-05-15T13:53:27.524057Z",
     "shell.execute_reply": "2023-05-15T13:53:27.523103Z"
    },
    "papermill": {
     "duration": 0.017096,
     "end_time": "2023-05-15T13:53:27.526409",
     "exception": false,
     "start_time": "2023-05-15T13:53:27.509313",
     "status": "completed"
    },
    "tags": []
   },
   "outputs": [],
   "source": [
    "# Uncomment and run the lines below if you need help.\n",
    "#q1.hint()\n",
    "#q1.solution()"
   ]
  },
  {
   "cell_type": "markdown",
   "id": "64aafd61",
   "metadata": {
    "papermill": {
     "duration": 0.008806,
     "end_time": "2023-05-15T13:53:27.544360",
     "exception": false,
     "start_time": "2023-05-15T13:53:27.535554",
     "status": "completed"
    },
    "tags": []
   },
   "source": [
    "<hr/>\n",
    "\n",
    "# 2.\n",
    "\n",
    "Add code to the following cell to swap variables `a` and `b` (so that `a` refers to the object previously referred to by `b` and vice versa)."
   ]
  },
  {
   "cell_type": "code",
   "execution_count": 7,
   "id": "b18dfb52",
   "metadata": {
    "execution": {
     "iopub.execute_input": "2023-05-15T13:53:27.564787Z",
     "iopub.status.busy": "2023-05-15T13:53:27.563899Z",
     "iopub.status.idle": "2023-05-15T13:53:27.574039Z",
     "shell.execute_reply": "2023-05-15T13:53:27.572954Z"
    },
    "papermill": {
     "duration": 0.022711,
     "end_time": "2023-05-15T13:53:27.576229",
     "exception": false,
     "start_time": "2023-05-15T13:53:27.553518",
     "status": "completed"
    },
    "tags": []
   },
   "outputs": [
    {
     "data": {
      "application/javascript": [
       "parent.postMessage({\"jupyterEvent\": \"custom.exercise_interaction\", \"data\": {\"outcomeType\": 1, \"valueTowardsCompletion\": 0.25, \"interactionType\": 1, \"questionType\": 2, \"questionId\": \"2_VariableSwap\", \"learnToolsVersion\": \"0.3.4\", \"failureMessage\": \"\", \"exceptionClass\": \"\", \"trace\": \"\"}}, \"*\")"
      ],
      "text/plain": [
       "<IPython.core.display.Javascript object>"
      ]
     },
     "metadata": {},
     "output_type": "display_data"
    },
    {
     "data": {
      "text/markdown": [
       "<span style=\"color:#33cc33\">Correct:</span> \n",
       "\n",
       "The most straightforward solution is to use a third variable to temporarily store one of the old values. e.g.:\n",
       "\n",
       "    tmp = a\n",
       "    a = b\n",
       "    b = tmp\n",
       "\n",
       "If you've read lots of Python code, you might have seen the following trick to swap two variables in one line:\n",
       "\n",
       "    a, b = b, a\n",
       "\n",
       "We'll demystify this bit of Python magic later when we talk about *tuples*."
      ],
      "text/plain": [
       "Correct: \n",
       "\n",
       "The most straightforward solution is to use a third variable to temporarily store one of the old values. e.g.:\n",
       "\n",
       "    tmp = a\n",
       "    a = b\n",
       "    b = tmp\n",
       "\n",
       "If you've read lots of Python code, you might have seen the following trick to swap two variables in one line:\n",
       "\n",
       "    a, b = b, a\n",
       "\n",
       "We'll demystify this bit of Python magic later when we talk about *tuples*."
      ]
     },
     "metadata": {},
     "output_type": "display_data"
    }
   ],
   "source": [
    "########### Setup code - don't touch this part ######################\n",
    "# If you're curious, these are examples of lists. We'll talk about \n",
    "# them in depth a few lessons from now. For now, just know that they're\n",
    "# yet another type of Python object, like int or float.\n",
    "a = [1, 2, 3]\n",
    "b = [3, 2, 1]\n",
    "q2.store_original_ids()\n",
    "######################################################################\n",
    "\n",
    "# Your code goes here. Swap the values to which a and b refer.\n",
    "# If you get stuck, you can always uncomment one or both of the lines in\n",
    "# the next cell for a hint, or to peek at the solution.\n",
    "temp = a\n",
    "a = b\n",
    "b = temp\n",
    "\n",
    "######################################################################\n",
    "\n",
    "# Check your answer\n",
    "q2.check()"
   ]
  },
  {
   "cell_type": "code",
   "execution_count": 8,
   "id": "07d9929d",
   "metadata": {
    "execution": {
     "iopub.execute_input": "2023-05-15T13:53:27.597728Z",
     "iopub.status.busy": "2023-05-15T13:53:27.597089Z",
     "iopub.status.idle": "2023-05-15T13:53:27.600793Z",
     "shell.execute_reply": "2023-05-15T13:53:27.600075Z"
    },
    "papermill": {
     "duration": 0.017029,
     "end_time": "2023-05-15T13:53:27.602789",
     "exception": false,
     "start_time": "2023-05-15T13:53:27.585760",
     "status": "completed"
    },
    "tags": []
   },
   "outputs": [],
   "source": [
    "#q2.hint()"
   ]
  },
  {
   "cell_type": "code",
   "execution_count": 9,
   "id": "4b9b4b96",
   "metadata": {
    "execution": {
     "iopub.execute_input": "2023-05-15T13:53:27.624316Z",
     "iopub.status.busy": "2023-05-15T13:53:27.623676Z",
     "iopub.status.idle": "2023-05-15T13:53:27.628505Z",
     "shell.execute_reply": "2023-05-15T13:53:27.627029Z"
    },
    "papermill": {
     "duration": 0.018267,
     "end_time": "2023-05-15T13:53:27.630803",
     "exception": false,
     "start_time": "2023-05-15T13:53:27.612536",
     "status": "completed"
    },
    "tags": []
   },
   "outputs": [],
   "source": [
    "#q2.solution()"
   ]
  },
  {
   "cell_type": "markdown",
   "id": "1cd49e60",
   "metadata": {
    "papermill": {
     "duration": 0.00916,
     "end_time": "2023-05-15T13:53:27.649563",
     "exception": false,
     "start_time": "2023-05-15T13:53:27.640403",
     "status": "completed"
    },
    "tags": []
   },
   "source": [
    "<hr/>\n",
    "\n",
    "# 3a.\n",
    "\n",
    "Add parentheses to the following expression so that it evaluates to 1."
   ]
  },
  {
   "cell_type": "code",
   "execution_count": 10,
   "id": "f10b11aa",
   "metadata": {
    "execution": {
     "iopub.execute_input": "2023-05-15T13:53:27.670344Z",
     "iopub.status.busy": "2023-05-15T13:53:27.669940Z",
     "iopub.status.idle": "2023-05-15T13:53:27.676305Z",
     "shell.execute_reply": "2023-05-15T13:53:27.675220Z"
    },
    "papermill": {
     "duration": 0.019717,
     "end_time": "2023-05-15T13:53:27.678730",
     "exception": false,
     "start_time": "2023-05-15T13:53:27.659013",
     "status": "completed"
    },
    "tags": []
   },
   "outputs": [
    {
     "data": {
      "text/plain": [
       "1"
      ]
     },
     "execution_count": 10,
     "metadata": {},
     "output_type": "execute_result"
    }
   ],
   "source": [
    "(5 - 3) // 2"
   ]
  },
  {
   "cell_type": "code",
   "execution_count": 11,
   "id": "46a8954f",
   "metadata": {
    "execution": {
     "iopub.execute_input": "2023-05-15T13:53:27.699897Z",
     "iopub.status.busy": "2023-05-15T13:53:27.699519Z",
     "iopub.status.idle": "2023-05-15T13:53:27.703246Z",
     "shell.execute_reply": "2023-05-15T13:53:27.702493Z"
    },
    "papermill": {
     "duration": 0.0167,
     "end_time": "2023-05-15T13:53:27.705194",
     "exception": false,
     "start_time": "2023-05-15T13:53:27.688494",
     "status": "completed"
    },
    "tags": []
   },
   "outputs": [],
   "source": [
    "#q3.a.hint()"
   ]
  },
  {
   "cell_type": "code",
   "execution_count": 12,
   "id": "c0d7a5cf",
   "metadata": {
    "execution": {
     "iopub.execute_input": "2023-05-15T13:53:27.726724Z",
     "iopub.status.busy": "2023-05-15T13:53:27.726131Z",
     "iopub.status.idle": "2023-05-15T13:53:27.734122Z",
     "shell.execute_reply": "2023-05-15T13:53:27.733227Z"
    },
    "papermill": {
     "duration": 0.021307,
     "end_time": "2023-05-15T13:53:27.736232",
     "exception": false,
     "start_time": "2023-05-15T13:53:27.714925",
     "status": "completed"
    },
    "tags": []
   },
   "outputs": [
    {
     "data": {
      "application/javascript": [
       "parent.postMessage({\"jupyterEvent\": \"custom.exercise_interaction\", \"data\": {\"interactionType\": 3, \"questionType\": 4, \"questionId\": \"3.1_ArithmeticParensEasy\", \"learnToolsVersion\": \"0.3.4\", \"valueTowardsCompletion\": 0.0, \"failureMessage\": \"\", \"exceptionClass\": \"\", \"trace\": \"\", \"outcomeType\": 4}}, \"*\")"
      ],
      "text/plain": [
       "<IPython.core.display.Javascript object>"
      ]
     },
     "metadata": {},
     "output_type": "display_data"
    },
    {
     "data": {
      "text/markdown": [
       "<span style=\"color:#33cc99\">Solution:</span> \n",
       "```python\n",
       "(5 - 3) // 2\n",
       "```"
      ],
      "text/plain": [
       "Solution: \n",
       "```python\n",
       "(5 - 3) // 2\n",
       "```"
      ]
     },
     "metadata": {},
     "output_type": "display_data"
    }
   ],
   "source": [
    "# Check your answer (Run this code cell to receive credit!)\n",
    "q3.a.solution()"
   ]
  },
  {
   "cell_type": "markdown",
   "id": "939880aa",
   "metadata": {
    "papermill": {
     "duration": 0.009875,
     "end_time": "2023-05-15T13:53:27.756125",
     "exception": false,
     "start_time": "2023-05-15T13:53:27.746250",
     "status": "completed"
    },
    "tags": []
   },
   "source": [
    "# 3b.  <span title=\"A bit spicy\" style=\"color: darkgreen \">🌶️</span>\n",
    "\n",
    "<small>Questions, like this one, marked a spicy pepper are a bit harder.</small>\n",
    "\n",
    "Add parentheses to the following expression so that it evaluates to 0."
   ]
  },
  {
   "cell_type": "code",
   "execution_count": 13,
   "id": "0027375a",
   "metadata": {
    "execution": {
     "iopub.execute_input": "2023-05-15T13:53:27.778305Z",
     "iopub.status.busy": "2023-05-15T13:53:27.777710Z",
     "iopub.status.idle": "2023-05-15T13:53:27.783891Z",
     "shell.execute_reply": "2023-05-15T13:53:27.782855Z"
    },
    "papermill": {
     "duration": 0.019857,
     "end_time": "2023-05-15T13:53:27.786097",
     "exception": false,
     "start_time": "2023-05-15T13:53:27.766240",
     "status": "completed"
    },
    "tags": []
   },
   "outputs": [
    {
     "data": {
      "text/plain": [
       "0"
      ]
     },
     "execution_count": 13,
     "metadata": {},
     "output_type": "execute_result"
    }
   ],
   "source": [
    "8 - (3 * 2) - (1 + 1)"
   ]
  },
  {
   "cell_type": "code",
   "execution_count": 14,
   "id": "48b79596",
   "metadata": {
    "execution": {
     "iopub.execute_input": "2023-05-15T13:53:27.808526Z",
     "iopub.status.busy": "2023-05-15T13:53:27.808167Z",
     "iopub.status.idle": "2023-05-15T13:53:27.812458Z",
     "shell.execute_reply": "2023-05-15T13:53:27.811369Z"
    },
    "papermill": {
     "duration": 0.018244,
     "end_time": "2023-05-15T13:53:27.814667",
     "exception": false,
     "start_time": "2023-05-15T13:53:27.796423",
     "status": "completed"
    },
    "tags": []
   },
   "outputs": [],
   "source": [
    "#q3.b.hint()"
   ]
  },
  {
   "cell_type": "code",
   "execution_count": 15,
   "id": "6879a244",
   "metadata": {
    "execution": {
     "iopub.execute_input": "2023-05-15T13:53:27.837437Z",
     "iopub.status.busy": "2023-05-15T13:53:27.837069Z",
     "iopub.status.idle": "2023-05-15T13:53:27.845922Z",
     "shell.execute_reply": "2023-05-15T13:53:27.844810Z"
    },
    "papermill": {
     "duration": 0.023124,
     "end_time": "2023-05-15T13:53:27.848184",
     "exception": false,
     "start_time": "2023-05-15T13:53:27.825060",
     "status": "completed"
    },
    "tags": []
   },
   "outputs": [
    {
     "data": {
      "application/javascript": [
       "parent.postMessage({\"jupyterEvent\": \"custom.exercise_interaction\", \"data\": {\"interactionType\": 3, \"questionType\": 4, \"questionId\": \"3.2_ArithmeticParensHard\", \"learnToolsVersion\": \"0.3.4\", \"valueTowardsCompletion\": 0.0, \"failureMessage\": \"\", \"exceptionClass\": \"\", \"trace\": \"\", \"outcomeType\": 4}}, \"*\")"
      ],
      "text/plain": [
       "<IPython.core.display.Javascript object>"
      ]
     },
     "metadata": {},
     "output_type": "display_data"
    },
    {
     "data": {
      "text/markdown": [
       "<span style=\"color:#33cc99\">Solution:</span> `(8 - 3) * (2 - (1 + 1))` is one solution. There may be others."
      ],
      "text/plain": [
       "Solution: `(8 - 3) * (2 - (1 + 1))` is one solution. There may be others."
      ]
     },
     "metadata": {},
     "output_type": "display_data"
    }
   ],
   "source": [
    "# Check your answer (Run this code cell to receive credit!)\n",
    "q3.b.solution()"
   ]
  },
  {
   "cell_type": "markdown",
   "id": "8caca2b1",
   "metadata": {
    "papermill": {
     "duration": 0.010349,
     "end_time": "2023-05-15T13:53:27.869468",
     "exception": false,
     "start_time": "2023-05-15T13:53:27.859119",
     "status": "completed"
    },
    "tags": []
   },
   "source": [
    "<hr/>\n",
    "\n",
    "# 4. \n",
    "Alice, Bob and Carol have agreed to pool their Halloween candy and split it evenly among themselves.\n",
    "For the sake of their friendship, any candies left over will be smashed. For example, if they collectively\n",
    "bring home 91 candies, they'll take 30 each and smash 1.\n",
    "\n",
    "Write an arithmetic expression below to calculate how many candies they must smash for a given haul."
   ]
  },
  {
   "cell_type": "code",
   "execution_count": 16,
   "id": "a98aafb9",
   "metadata": {
    "execution": {
     "iopub.execute_input": "2023-05-15T13:53:27.892405Z",
     "iopub.status.busy": "2023-05-15T13:53:27.892037Z",
     "iopub.status.idle": "2023-05-15T13:53:27.900715Z",
     "shell.execute_reply": "2023-05-15T13:53:27.899889Z"
    },
    "papermill": {
     "duration": 0.022919,
     "end_time": "2023-05-15T13:53:27.902970",
     "exception": false,
     "start_time": "2023-05-15T13:53:27.880051",
     "status": "completed"
    },
    "tags": []
   },
   "outputs": [
    {
     "data": {
      "application/javascript": [
       "parent.postMessage({\"jupyterEvent\": \"custom.exercise_interaction\", \"data\": {\"outcomeType\": 1, \"valueTowardsCompletion\": 0.25, \"interactionType\": 1, \"questionType\": 1, \"questionId\": \"4_CandySplitting\", \"learnToolsVersion\": \"0.3.4\", \"failureMessage\": \"\", \"exceptionClass\": \"\", \"trace\": \"\"}}, \"*\")"
      ],
      "text/plain": [
       "<IPython.core.display.Javascript object>"
      ]
     },
     "metadata": {},
     "output_type": "display_data"
    },
    {
     "data": {
      "text/markdown": [
       "<span style=\"color:#33cc33\">Correct</span>"
      ],
      "text/plain": [
       "Correct"
      ]
     },
     "metadata": {},
     "output_type": "display_data"
    }
   ],
   "source": [
    "# Variables representing the number of candies collected by alice, bob, and carol\n",
    "alice_candies = 121\n",
    "bob_candies = 77\n",
    "carol_candies = 109\n",
    "\n",
    "# Your code goes here! Replace the right-hand side of this assignment with an expression\n",
    "# involving alice_candies, bob_candies, and carol_candies\n",
    "to_smash = (alice_candies + bob_candies + carol_candies) % 3\n",
    "# Check your answer\n",
    "q4.check()"
   ]
  },
  {
   "cell_type": "code",
   "execution_count": 17,
   "id": "651e52f3",
   "metadata": {
    "execution": {
     "iopub.execute_input": "2023-05-15T13:53:27.926599Z",
     "iopub.status.busy": "2023-05-15T13:53:27.926207Z",
     "iopub.status.idle": "2023-05-15T13:53:27.930692Z",
     "shell.execute_reply": "2023-05-15T13:53:27.929652Z"
    },
    "papermill": {
     "duration": 0.01876,
     "end_time": "2023-05-15T13:53:27.932688",
     "exception": false,
     "start_time": "2023-05-15T13:53:27.913928",
     "status": "completed"
    },
    "tags": []
   },
   "outputs": [],
   "source": [
    "#q4.hint()\n",
    "#q4.solution()"
   ]
  },
  {
   "cell_type": "markdown",
   "id": "ca085eae",
   "metadata": {
    "papermill": {
     "duration": 0.010553,
     "end_time": "2023-05-15T13:53:27.954573",
     "exception": false,
     "start_time": "2023-05-15T13:53:27.944020",
     "status": "completed"
    },
    "tags": []
   },
   "source": [
    "# Keep Going\n",
    "\n",
    "Next up, you'll **[learn to write new functions and understand functions others write](https://www.kaggle.com/colinmorris/functions-and-getting-help)**. This will make you at least 10 times more productive as a Python programmer. "
   ]
  },
  {
   "cell_type": "markdown",
   "id": "456f81b5",
   "metadata": {
    "papermill": {
     "duration": 0.010656,
     "end_time": "2023-05-15T13:53:27.976374",
     "exception": false,
     "start_time": "2023-05-15T13:53:27.965718",
     "status": "completed"
    },
    "tags": []
   },
   "source": [
    "---\n",
    "\n",
    "\n",
    "\n",
    "\n",
    "*Have questions or comments? Visit the [course discussion forum](https://www.kaggle.com/learn/python/discussion) to chat with other learners.*"
   ]
  }
 ],
 "metadata": {
  "kernelspec": {
   "display_name": "Python 3",
   "language": "python",
   "name": "python3"
  },
  "language_info": {
   "codemirror_mode": {
    "name": "ipython",
    "version": 3
   },
   "file_extension": ".py",
   "mimetype": "text/x-python",
   "name": "python",
   "nbconvert_exporter": "python",
   "pygments_lexer": "ipython3",
   "version": "3.10.10"
  },
  "papermill": {
   "default_parameters": {},
   "duration": 13.581612,
   "end_time": "2023-05-15T13:53:28.810464",
   "environment_variables": {},
   "exception": null,
   "input_path": "__notebook__.ipynb",
   "output_path": "__notebook__.ipynb",
   "parameters": {},
   "start_time": "2023-05-15T13:53:15.228852",
   "version": "2.4.0"
  }
 },
 "nbformat": 4,
 "nbformat_minor": 5
}
